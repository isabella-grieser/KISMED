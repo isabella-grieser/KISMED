{
 "cells": [
  {
   "cell_type": "code",
   "execution_count": 6,
   "metadata": {
    "collapsed": true,
    "pycharm": {
     "name": "#%%\n"
    },
    "colab": {
     "base_uri": "https://localhost:8080/"
    },
    "id": "bSCkda3_3bLM",
    "executionInfo": {
     "status": "ok",
     "timestamp": 1652858887432,
     "user_tz": -120,
     "elapsed": 4706,
     "user": {
      "displayName": "IsaN",
      "userId": "00818509363939310176"
     }
    },
    "outputId": "62322a6c-23e2-4839-c9b2-fe55b88ff07c"
   },
   "outputs": [
    {
     "output_type": "stream",
     "name": "stdout",
     "text": [
      "Mounted at /content/drive\n"
     ]
    }
   ],
   "source": [
    "from google.colab import drive\n",
    "drive.mount('/content/drive',force_remount=True) "
   ]
  },
  {
   "cell_type": "code",
   "execution_count": null,
   "outputs": [
    {
     "name": "stdout",
     "output_type": "stream",
     "text": [
      "Requirement already satisfied: scipy in c:\\users\\isabe\\appdata\\local\\programs\\python\\python39\\lib\\site-packages (from -r requirements.txt (line 1)) (1.7.1)\n",
      "Requirement already satisfied: matplotlib in c:\\users\\isabe\\appdata\\local\\programs\\python\\python39\\lib\\site-packages (from -r requirements.txt (line 2)) (3.5.2)\n",
      "Requirement already satisfied: numpy in c:\\users\\isabe\\appdata\\roaming\\python\\python39\\site-packages (from -r requirements.txt (line 3)) (1.20.1)\n",
      "Requirement already satisfied: py-ecg-detectors in c:\\users\\isabe\\appdata\\local\\programs\\python\\python39\\lib\\site-packages (from -r requirements.txt (line 4)) (1.2.0)\n",
      "Requirement already satisfied: pandas in c:\\users\\isabe\\appdata\\local\\programs\\python\\python39\\lib\\site-packages (from -r requirements.txt (line 5)) (1.4.1)\n",
      "Requirement already satisfied: tensorflow in c:\\users\\isabe\\appdata\\local\\programs\\python\\python39\\lib\\site-packages (from -r requirements.txt (line 6)) (2.9.0)\n",
      "Requirement already satisfied: tensorflow_addons in c:\\users\\isabe\\appdata\\local\\programs\\python\\python39\\lib\\site-packages (from -r requirements.txt (line 7)) (0.16.1)\n",
      "Requirement already satisfied: sklearn in c:\\users\\isabe\\appdata\\local\\programs\\python\\python39\\lib\\site-packages (from -r requirements.txt (line 8)) (0.0)\n",
      "Requirement already satisfied: mysql-connector-python in c:\\users\\isabe\\appdata\\local\\programs\\python\\python39\\lib\\site-packages (from -r requirements.txt (line 9)) (8.0.29)\n",
      "Requirement already satisfied: python-dateutil>=2.7 in c:\\users\\isabe\\appdata\\roaming\\python\\python39\\site-packages (from matplotlib->-r requirements.txt (line 2)) (2.8.1)\n",
      "Requirement already satisfied: pyparsing>=2.2.1 in c:\\users\\isabe\\appdata\\local\\programs\\python\\python39\\lib\\site-packages (from matplotlib->-r requirements.txt (line 2)) (2.4.7)\n",
      "Requirement already satisfied: cycler>=0.10 in c:\\users\\isabe\\appdata\\local\\programs\\python\\python39\\lib\\site-packages (from matplotlib->-r requirements.txt (line 2)) (0.11.0)\n",
      "Requirement already satisfied: packaging>=20.0 in c:\\users\\isabe\\appdata\\local\\programs\\python\\python39\\lib\\site-packages (from matplotlib->-r requirements.txt (line 2)) (20.9)\n",
      "Requirement already satisfied: fonttools>=4.22.0 in c:\\users\\isabe\\appdata\\local\\programs\\python\\python39\\lib\\site-packages (from matplotlib->-r requirements.txt (line 2)) (4.33.3)\n",
      "Requirement already satisfied: kiwisolver>=1.0.1 in c:\\users\\isabe\\appdata\\local\\programs\\python\\python39\\lib\\site-packages (from matplotlib->-r requirements.txt (line 2)) (1.4.2)\n",
      "Requirement already satisfied: pillow>=6.2.0 in c:\\users\\isabe\\appdata\\local\\programs\\python\\python39\\lib\\site-packages (from matplotlib->-r requirements.txt (line 2)) (9.1.1)\n",
      "Requirement already satisfied: gatspy in c:\\users\\isabe\\appdata\\local\\programs\\python\\python39\\lib\\site-packages (from py-ecg-detectors->-r requirements.txt (line 4)) (0.3)\n",
      "Requirement already satisfied: pywavelets in c:\\users\\isabe\\appdata\\local\\programs\\python\\python39\\lib\\site-packages (from py-ecg-detectors->-r requirements.txt (line 4)) (1.3.0)\n",
      "Requirement already satisfied: pytz>=2020.1 in c:\\users\\isabe\\appdata\\roaming\\python\\python39\\site-packages (from pandas->-r requirements.txt (line 5)) (2021.1)\n",
      "Requirement already satisfied: typing-extensions>=3.6.6 in c:\\users\\isabe\\appdata\\local\\programs\\python\\python39\\lib\\site-packages (from tensorflow->-r requirements.txt (line 6)) (4.2.0)\n",
      "Requirement already satisfied: astunparse>=1.6.0 in c:\\users\\isabe\\appdata\\local\\programs\\python\\python39\\lib\\site-packages (from tensorflow->-r requirements.txt (line 6)) (1.6.3)\n",
      "Requirement already satisfied: tensorboard<2.10,>=2.9 in c:\\users\\isabe\\appdata\\local\\programs\\python\\python39\\lib\\site-packages (from tensorflow->-r requirements.txt (line 6)) (2.9.0)\n",
      "Requirement already satisfied: keras<2.10.0,>=2.9.0rc0 in c:\\users\\isabe\\appdata\\local\\programs\\python\\python39\\lib\\site-packages (from tensorflow->-r requirements.txt (line 6)) (2.9.0)\n",
      "Requirement already satisfied: tensorflow-io-gcs-filesystem>=0.23.1 in c:\\users\\isabe\\appdata\\local\\programs\\python\\python39\\lib\\site-packages (from tensorflow->-r requirements.txt (line 6)) (0.26.0)\n",
      "Requirement already satisfied: grpcio<2.0,>=1.24.3 in c:\\users\\isabe\\appdata\\local\\programs\\python\\python39\\lib\\site-packages (from tensorflow->-r requirements.txt (line 6)) (1.46.1)\n",
      "Requirement already satisfied: opt-einsum>=2.3.2 in c:\\users\\isabe\\appdata\\local\\programs\\python\\python39\\lib\\site-packages (from tensorflow->-r requirements.txt (line 6)) (3.3.0)\n",
      "Requirement already satisfied: wrapt>=1.11.0 in c:\\users\\isabe\\appdata\\local\\programs\\python\\python39\\lib\\site-packages (from tensorflow->-r requirements.txt (line 6)) (1.14.1)\n",
      "Requirement already satisfied: flatbuffers<2,>=1.12 in c:\\users\\isabe\\appdata\\local\\programs\\python\\python39\\lib\\site-packages (from tensorflow->-r requirements.txt (line 6)) (1.12)\n",
      "Requirement already satisfied: google-pasta>=0.1.1 in c:\\users\\isabe\\appdata\\local\\programs\\python\\python39\\lib\\site-packages (from tensorflow->-r requirements.txt (line 6)) (0.2.0)\n",
      "Requirement already satisfied: libclang>=13.0.0 in c:\\users\\isabe\\appdata\\local\\programs\\python\\python39\\lib\\site-packages (from tensorflow->-r requirements.txt (line 6)) (14.0.1)\n",
      "Requirement already satisfied: absl-py>=1.0.0 in c:\\users\\isabe\\appdata\\local\\programs\\python\\python39\\lib\\site-packages (from tensorflow->-r requirements.txt (line 6)) (1.0.0)\n",
      "Requirement already satisfied: keras-preprocessing>=1.1.1 in c:\\users\\isabe\\appdata\\local\\programs\\python\\python39\\lib\\site-packages (from tensorflow->-r requirements.txt (line 6)) (1.1.2)\n",
      "Requirement already satisfied: six>=1.12.0 in c:\\users\\isabe\\appdata\\roaming\\python\\python39\\site-packages (from tensorflow->-r requirements.txt (line 6)) (1.15.0)\n",
      "Requirement already satisfied: termcolor>=1.1.0 in c:\\users\\isabe\\appdata\\local\\programs\\python\\python39\\lib\\site-packages (from tensorflow->-r requirements.txt (line 6)) (1.1.0)\n",
      "Requirement already satisfied: gast<=0.4.0,>=0.2.1 in c:\\users\\isabe\\appdata\\local\\programs\\python\\python39\\lib\\site-packages (from tensorflow->-r requirements.txt (line 6)) (0.4.0)\n",
      "Requirement already satisfied: protobuf>=3.9.2 in c:\\users\\isabe\\appdata\\local\\programs\\python\\python39\\lib\\site-packages (from tensorflow->-r requirements.txt (line 6)) (3.20.1)\n",
      "Requirement already satisfied: setuptools in c:\\users\\isabe\\appdata\\local\\programs\\python\\python39\\lib\\site-packages (from tensorflow->-r requirements.txt (line 6)) (56.0.0)\n",
      "Requirement already satisfied: h5py>=2.9.0 in c:\\users\\isabe\\appdata\\local\\programs\\python\\python39\\lib\\site-packages (from tensorflow->-r requirements.txt (line 6)) (3.2.1)\n",
      "Requirement already satisfied: tensorflow-estimator<2.10.0,>=2.9.0rc0 in c:\\users\\isabe\\appdata\\local\\programs\\python\\python39\\lib\\site-packages (from tensorflow->-r requirements.txt (line 6)) (2.9.0)\n",
      "Requirement already satisfied: typeguard>=2.7 in c:\\users\\isabe\\appdata\\local\\programs\\python\\python39\\lib\\site-packages (from tensorflow_addons->-r requirements.txt (line 7)) (2.13.3)\n",
      "Requirement already satisfied: scikit-learn in c:\\users\\isabe\\appdata\\local\\programs\\python\\python39\\lib\\site-packages (from sklearn->-r requirements.txt (line 8)) (1.0)\n",
      "Requirement already satisfied: wheel<1.0,>=0.23.0 in c:\\users\\isabe\\appdata\\local\\programs\\python\\python39\\lib\\site-packages (from astunparse>=1.6.0->tensorflow->-r requirements.txt (line 6)) (0.36.2)\n",
      "Requirement already satisfied: tensorboard-plugin-wit>=1.6.0 in c:\\users\\isabe\\appdata\\local\\programs\\python\\python39\\lib\\site-packages (from tensorboard<2.10,>=2.9->tensorflow->-r requirements.txt (line 6)) (1.8.1)\n",
      "Requirement already satisfied: google-auth-oauthlib<0.5,>=0.4.1 in c:\\users\\isabe\\appdata\\local\\programs\\python\\python39\\lib\\site-packages (from tensorboard<2.10,>=2.9->tensorflow->-r requirements.txt (line 6)) (0.4.6)\n",
      "Requirement already satisfied: werkzeug>=1.0.1 in c:\\users\\isabe\\appdata\\local\\programs\\python\\python39\\lib\\site-packages (from tensorboard<2.10,>=2.9->tensorflow->-r requirements.txt (line 6)) (2.1.2)\n",
      "Requirement already satisfied: requests<3,>=2.21.0 in c:\\users\\isabe\\appdata\\local\\programs\\python\\python39\\lib\\site-packages (from tensorboard<2.10,>=2.9->tensorflow->-r requirements.txt (line 6)) (2.25.1)\n",
      "Requirement already satisfied: tensorboard-data-server<0.7.0,>=0.6.0 in c:\\users\\isabe\\appdata\\local\\programs\\python\\python39\\lib\\site-packages (from tensorboard<2.10,>=2.9->tensorflow->-r requirements.txt (line 6)) (0.6.1)\n",
      "Requirement already satisfied: markdown>=2.6.8 in c:\\users\\isabe\\appdata\\local\\programs\\python\\python39\\lib\\site-packages (from tensorboard<2.10,>=2.9->tensorflow->-r requirements.txt (line 6)) (3.3.7)\n",
      "Requirement already satisfied: google-auth<3,>=1.6.3 in c:\\users\\isabe\\appdata\\local\\programs\\python\\python39\\lib\\site-packages (from tensorboard<2.10,>=2.9->tensorflow->-r requirements.txt (line 6)) (2.6.6)\n",
      "Requirement already satisfied: threadpoolctl>=2.0.0 in c:\\users\\isabe\\appdata\\local\\programs\\python\\python39\\lib\\site-packages (from scikit-learn->sklearn->-r requirements.txt (line 8)) (3.0.0)\n",
      "Requirement already satisfied: joblib>=0.11 in c:\\users\\isabe\\appdata\\local\\programs\\python\\python39\\lib\\site-packages (from scikit-learn->sklearn->-r requirements.txt (line 8)) (1.1.0)\n",
      "Requirement already satisfied: cachetools<6.0,>=2.0.0 in c:\\users\\isabe\\appdata\\local\\programs\\python\\python39\\lib\\site-packages (from google-auth<3,>=1.6.3->tensorboard<2.10,>=2.9->tensorflow->-r requirements.txt (line 6)) (5.1.0)\n",
      "Requirement already satisfied: pyasn1-modules>=0.2.1 in c:\\users\\isabe\\appdata\\local\\programs\\python\\python39\\lib\\site-packages (from google-auth<3,>=1.6.3->tensorboard<2.10,>=2.9->tensorflow->-r requirements.txt (line 6)) (0.2.8)\n",
      "Requirement already satisfied: rsa<5,>=3.1.4 in c:\\users\\isabe\\appdata\\local\\programs\\python\\python39\\lib\\site-packages (from google-auth<3,>=1.6.3->tensorboard<2.10,>=2.9->tensorflow->-r requirements.txt (line 6)) (4.8)\n",
      "Requirement already satisfied: requests-oauthlib>=0.7.0 in c:\\users\\isabe\\appdata\\local\\programs\\python\\python39\\lib\\site-packages (from google-auth-oauthlib<0.5,>=0.4.1->tensorboard<2.10,>=2.9->tensorflow->-r requirements.txt (line 6)) (1.3.1)\n",
      "Requirement already satisfied: importlib-metadata>=4.4 in c:\\users\\isabe\\appdata\\local\\programs\\python\\python39\\lib\\site-packages (from markdown>=2.6.8->tensorboard<2.10,>=2.9->tensorflow->-r requirements.txt (line 6)) (4.11.3)\n",
      "Requirement already satisfied: certifi>=2017.4.17 in c:\\users\\isabe\\appdata\\local\\programs\\python\\python39\\lib\\site-packages (from requests<3,>=2.21.0->tensorboard<2.10,>=2.9->tensorflow->-r requirements.txt (line 6)) (2021.10.8)\n",
      "Requirement already satisfied: idna<3,>=2.5 in c:\\users\\isabe\\appdata\\local\\programs\\python\\python39\\lib\\site-packages (from requests<3,>=2.21.0->tensorboard<2.10,>=2.9->tensorflow->-r requirements.txt (line 6)) (2.10)\n",
      "Requirement already satisfied: chardet<5,>=3.0.2 in c:\\users\\isabe\\appdata\\local\\programs\\python\\python39\\lib\\site-packages (from requests<3,>=2.21.0->tensorboard<2.10,>=2.9->tensorflow->-r requirements.txt (line 6)) (4.0.0)\n",
      "Requirement already satisfied: urllib3<1.27,>=1.21.1 in c:\\users\\isabe\\appdata\\local\\programs\\python\\python39\\lib\\site-packages (from requests<3,>=2.21.0->tensorboard<2.10,>=2.9->tensorflow->-r requirements.txt (line 6)) (1.26.4)\n",
      "Requirement already satisfied: zipp>=0.5 in c:\\users\\isabe\\appdata\\local\\programs\\python\\python39\\lib\\site-packages (from importlib-metadata>=4.4->markdown>=2.6.8->tensorboard<2.10,>=2.9->tensorflow->-r requirements.txt (line 6)) (3.8.0)\n",
      "Requirement already satisfied: pyasn1<0.5.0,>=0.4.6 in c:\\users\\isabe\\appdata\\local\\programs\\python\\python39\\lib\\site-packages (from pyasn1-modules>=0.2.1->google-auth<3,>=1.6.3->tensorboard<2.10,>=2.9->tensorflow->-r requirements.txt (line 6)) (0.4.8)\n",
      "Requirement already satisfied: oauthlib>=3.0.0 in c:\\users\\isabe\\appdata\\local\\programs\\python\\python39\\lib\\site-packages (from requests-oauthlib>=0.7.0->google-auth-oauthlib<0.5,>=0.4.1->tensorboard<2.10,>=2.9->tensorflow->-r requirements.txt (line 6)) (3.2.0)\n"
     ]
    }
   ],
   "source": [
    "%cd /content/drive/Othercomputers/laptop/KISMED\n",
    "\n",
    "!pip install -r requirements.txt"
   ],
   "metadata": {
    "pycharm": {
     "name": "#%%\n"
    },
    "id": "GiZ0lj9a6lm1",
    "colab": {
     "base_uri": "https://localhost:8080/"
    },
    "executionInfo": {
     "status": "ok",
     "timestamp": 1652856982825,
     "user_tz": -120,
     "elapsed": 12417,
     "user": {
      "displayName": "IsaN",
      "userId": "00818509363939310176"
     }
    },
    "outputId": "7babff77-05b7-4c37-f5f2-75253a3b6ba8"
   }
  },
  {
   "cell_type": "code",
   "execution_count": null,
   "outputs": [
    {
     "name": "stderr",
     "output_type": "stream",
     "text": [
      "c:\\users\\isabe\\appdata\\local\\programs\\python\\python39\\lib\\site-packages\\tensorflow_addons\\utils\\ensure_tf_install.py:53: UserWarning: Tensorflow Addons supports using Python ops for all Tensorflow versions above or equal to 2.6.0 and strictly below 2.9.0 (nightly versions are not supported). \n",
      " The versions of TensorFlow you are currently using is 2.9.0 and is not supported. \n",
      "Some things might work, some things might not.\n",
      "If you were to encounter a bug, do not file an issue.\n",
      "If you want to make sure you're using a tested and supported configuration, either change the TensorFlow version or the TensorFlow Addons's version. \n",
      "You can find the compatibility matrix in TensorFlow Addon's readme:\n",
      "https://github.com/tensorflow/addons\n",
      "  warnings.warn(\n"
     ]
    }
   ],
   "source": [
    "from models.deepmlmodel import DeepMLModel\n",
    "from wettbewerb import load_references\n",
    "from preprocessing.preprocessing import *\n",
    "from utils.utils import *\n",
    "import time"
   ],
   "metadata": {
    "pycharm": {
     "name": "#%%\n"
    },
    "id": "EhQjS5va6lm1",
    "executionInfo": {
     "status": "ok",
     "timestamp": 1652857005673,
     "user_tz": -120,
     "elapsed": 6973,
     "user": {
      "displayName": "IsaN",
      "userId": "00818509363939310176"
     }
    },
    "outputId": "bb0c6acd-9c0e-43d6-e9c5-75b09fefdbd8"
   }
  },
  {
   "cell_type": "code",
   "execution_count": null,
   "outputs": [
    {
     "name": "stdout",
     "output_type": "stream",
     "text": [
      "6000\t Dateien wurden geladen.\n"
     ]
    },
    {
     "ename": "KeyboardInterrupt",
     "evalue": "",
     "output_type": "error",
     "traceback": [
      "\u001B[1;31m---------------------------------------------------------------------------\u001B[0m",
      "\u001B[1;31mKeyboardInterrupt\u001B[0m                         Traceback (most recent call last)",
      "\u001B[1;32m<ipython-input-7-22f579388446>\u001B[0m in \u001B[0;36m<module>\u001B[1;34m\u001B[0m\n\u001B[0;32m      1\u001B[0m \u001B[0mecg_leads\u001B[0m\u001B[1;33m,\u001B[0m \u001B[0mecg_labels\u001B[0m\u001B[1;33m,\u001B[0m \u001B[0mfs\u001B[0m\u001B[1;33m,\u001B[0m \u001B[0mecg_names\u001B[0m \u001B[1;33m=\u001B[0m \u001B[0mload_references\u001B[0m\u001B[1;33m(\u001B[0m\u001B[0mfolder\u001B[0m\u001B[1;33m=\u001B[0m\u001B[1;34m\"data/training\"\u001B[0m\u001B[1;33m)\u001B[0m \u001B[1;31m# Importiere EKG-Dateien, zugehörige Diagnose, Sampling-Frequenz (Hz) und Name                                                # Sampling-Frequenz 300 Hz\u001B[0m\u001B[1;33m\u001B[0m\u001B[1;33m\u001B[0m\u001B[0m\n\u001B[0;32m      2\u001B[0m \u001B[1;33m\u001B[0m\u001B[0m\n\u001B[1;32m----> 3\u001B[1;33m \u001B[0mtrain_data\u001B[0m\u001B[1;33m,\u001B[0m \u001B[0mtrain_labels\u001B[0m\u001B[1;33m,\u001B[0m \u001B[0mval_data\u001B[0m\u001B[1;33m,\u001B[0m \u001B[0mval_labels\u001B[0m\u001B[1;33m,\u001B[0m \u001B[0mtest_data\u001B[0m\u001B[1;33m,\u001B[0m \u001B[0mtest_labels\u001B[0m \u001B[1;33m=\u001B[0m \u001B[0mpreprocess\u001B[0m\u001B[1;33m(\u001B[0m\u001B[0mecg_leads\u001B[0m\u001B[1;33m,\u001B[0m \u001B[0mecg_labels\u001B[0m\u001B[1;33m)\u001B[0m\u001B[1;33m\u001B[0m\u001B[1;33m\u001B[0m\u001B[0m\n\u001B[0m\u001B[0;32m      4\u001B[0m \u001B[1;33m\u001B[0m\u001B[0m\n\u001B[0;32m      5\u001B[0m \u001B[0mmodel\u001B[0m \u001B[1;33m=\u001B[0m \u001B[0mDeepMLModel\u001B[0m\u001B[1;33m(\u001B[0m\u001B[1;33m)\u001B[0m\u001B[1;33m\u001B[0m\u001B[1;33m\u001B[0m\u001B[0m\n",
      "\u001B[1;32m<ipython-input-7-22f579388446>\u001B[0m in \u001B[0;36m<module>\u001B[1;34m\u001B[0m\n\u001B[0;32m      1\u001B[0m \u001B[0mecg_leads\u001B[0m\u001B[1;33m,\u001B[0m \u001B[0mecg_labels\u001B[0m\u001B[1;33m,\u001B[0m \u001B[0mfs\u001B[0m\u001B[1;33m,\u001B[0m \u001B[0mecg_names\u001B[0m \u001B[1;33m=\u001B[0m \u001B[0mload_references\u001B[0m\u001B[1;33m(\u001B[0m\u001B[0mfolder\u001B[0m\u001B[1;33m=\u001B[0m\u001B[1;34m\"data/training\"\u001B[0m\u001B[1;33m)\u001B[0m \u001B[1;31m# Importiere EKG-Dateien, zugehörige Diagnose, Sampling-Frequenz (Hz) und Name                                                # Sampling-Frequenz 300 Hz\u001B[0m\u001B[1;33m\u001B[0m\u001B[1;33m\u001B[0m\u001B[0m\n\u001B[0;32m      2\u001B[0m \u001B[1;33m\u001B[0m\u001B[0m\n\u001B[1;32m----> 3\u001B[1;33m \u001B[0mtrain_data\u001B[0m\u001B[1;33m,\u001B[0m \u001B[0mtrain_labels\u001B[0m\u001B[1;33m,\u001B[0m \u001B[0mval_data\u001B[0m\u001B[1;33m,\u001B[0m \u001B[0mval_labels\u001B[0m\u001B[1;33m,\u001B[0m \u001B[0mtest_data\u001B[0m\u001B[1;33m,\u001B[0m \u001B[0mtest_labels\u001B[0m \u001B[1;33m=\u001B[0m \u001B[0mpreprocess\u001B[0m\u001B[1;33m(\u001B[0m\u001B[0mecg_leads\u001B[0m\u001B[1;33m,\u001B[0m \u001B[0mecg_labels\u001B[0m\u001B[1;33m)\u001B[0m\u001B[1;33m\u001B[0m\u001B[1;33m\u001B[0m\u001B[0m\n\u001B[0m\u001B[0;32m      4\u001B[0m \u001B[1;33m\u001B[0m\u001B[0m\n\u001B[0;32m      5\u001B[0m \u001B[0mmodel\u001B[0m \u001B[1;33m=\u001B[0m \u001B[0mDeepMLModel\u001B[0m\u001B[1;33m(\u001B[0m\u001B[1;33m)\u001B[0m\u001B[1;33m\u001B[0m\u001B[1;33m\u001B[0m\u001B[0m\n",
      "\u001B[1;32m_pydevd_bundle\\pydevd_cython_win32_39_64.pyx\u001B[0m in \u001B[0;36m_pydevd_bundle.pydevd_cython_win32_39_64.SafeCallWrapper.__call__\u001B[1;34m()\u001B[0m\n",
      "\u001B[1;32m_pydevd_bundle\\pydevd_cython_win32_39_64.pyx\u001B[0m in \u001B[0;36m_pydevd_bundle.pydevd_cython_win32_39_64.PyDBFrame.trace_dispatch\u001B[1;34m()\u001B[0m\n",
      "\u001B[1;32m_pydevd_bundle\\pydevd_cython_win32_39_64.pyx\u001B[0m in \u001B[0;36m_pydevd_bundle.pydevd_cython_win32_39_64.PyDBFrame.trace_dispatch\u001B[1;34m()\u001B[0m\n",
      "\u001B[1;32m_pydevd_bundle\\pydevd_cython_win32_39_64.pyx\u001B[0m in \u001B[0;36m_pydevd_bundle.pydevd_cython_win32_39_64.PyDBFrame.trace_dispatch\u001B[1;34m()\u001B[0m\n",
      "\u001B[1;32m_pydevd_bundle\\pydevd_cython_win32_39_64.pyx\u001B[0m in \u001B[0;36m_pydevd_bundle.pydevd_cython_win32_39_64.PyDBFrame.do_wait_suspend\u001B[1;34m()\u001B[0m\n",
      "\u001B[1;32mC:\\Program Files\\JetBrains\\PyCharm 2022.1\\plugins\\python\\helpers\\pydev\\pydevd.py\u001B[0m in \u001B[0;36mdo_wait_suspend\u001B[1;34m(self, thread, frame, event, arg, send_suspend_message, is_unhandled_exception)\u001B[0m\n\u001B[0;32m   1153\u001B[0m \u001B[1;33m\u001B[0m\u001B[0m\n\u001B[0;32m   1154\u001B[0m         \u001B[1;32mwith\u001B[0m \u001B[0mself\u001B[0m\u001B[1;33m.\u001B[0m\u001B[0m_threads_suspended_single_notification\u001B[0m\u001B[1;33m.\u001B[0m\u001B[0mnotify_thread_suspended\u001B[0m\u001B[1;33m(\u001B[0m\u001B[0mthread_id\u001B[0m\u001B[1;33m,\u001B[0m \u001B[0mstop_reason\u001B[0m\u001B[1;33m)\u001B[0m\u001B[1;33m:\u001B[0m\u001B[1;33m\u001B[0m\u001B[1;33m\u001B[0m\u001B[0m\n\u001B[1;32m-> 1155\u001B[1;33m             \u001B[0mself\u001B[0m\u001B[1;33m.\u001B[0m\u001B[0m_do_wait_suspend\u001B[0m\u001B[1;33m(\u001B[0m\u001B[0mthread\u001B[0m\u001B[1;33m,\u001B[0m \u001B[0mframe\u001B[0m\u001B[1;33m,\u001B[0m \u001B[0mevent\u001B[0m\u001B[1;33m,\u001B[0m \u001B[0marg\u001B[0m\u001B[1;33m,\u001B[0m \u001B[0msuspend_type\u001B[0m\u001B[1;33m,\u001B[0m \u001B[0mfrom_this_thread\u001B[0m\u001B[1;33m)\u001B[0m\u001B[1;33m\u001B[0m\u001B[1;33m\u001B[0m\u001B[0m\n\u001B[0m\u001B[0;32m   1156\u001B[0m \u001B[1;33m\u001B[0m\u001B[0m\n\u001B[0;32m   1157\u001B[0m     \u001B[1;32mdef\u001B[0m \u001B[0m_do_wait_suspend\u001B[0m\u001B[1;33m(\u001B[0m\u001B[0mself\u001B[0m\u001B[1;33m,\u001B[0m \u001B[0mthread\u001B[0m\u001B[1;33m,\u001B[0m \u001B[0mframe\u001B[0m\u001B[1;33m,\u001B[0m \u001B[0mevent\u001B[0m\u001B[1;33m,\u001B[0m \u001B[0marg\u001B[0m\u001B[1;33m,\u001B[0m \u001B[0msuspend_type\u001B[0m\u001B[1;33m,\u001B[0m \u001B[0mfrom_this_thread\u001B[0m\u001B[1;33m)\u001B[0m\u001B[1;33m:\u001B[0m\u001B[1;33m\u001B[0m\u001B[1;33m\u001B[0m\u001B[0m\n",
      "\u001B[1;32mC:\\Program Files\\JetBrains\\PyCharm 2022.1\\plugins\\python\\helpers\\pydev\\pydevd.py\u001B[0m in \u001B[0;36m_do_wait_suspend\u001B[1;34m(self, thread, frame, event, arg, suspend_type, from_this_thread)\u001B[0m\n\u001B[0;32m   1168\u001B[0m \u001B[1;33m\u001B[0m\u001B[0m\n\u001B[0;32m   1169\u001B[0m                 \u001B[0mself\u001B[0m\u001B[1;33m.\u001B[0m\u001B[0mprocess_internal_commands\u001B[0m\u001B[1;33m(\u001B[0m\u001B[1;33m)\u001B[0m\u001B[1;33m\u001B[0m\u001B[1;33m\u001B[0m\u001B[0m\n\u001B[1;32m-> 1170\u001B[1;33m                 \u001B[0mtime\u001B[0m\u001B[1;33m.\u001B[0m\u001B[0msleep\u001B[0m\u001B[1;33m(\u001B[0m\u001B[1;36m0.01\u001B[0m\u001B[1;33m)\u001B[0m\u001B[1;33m\u001B[0m\u001B[1;33m\u001B[0m\u001B[0m\n\u001B[0m\u001B[0;32m   1171\u001B[0m \u001B[1;33m\u001B[0m\u001B[0m\n\u001B[0;32m   1172\u001B[0m         \u001B[0mself\u001B[0m\u001B[1;33m.\u001B[0m\u001B[0mcancel_async_evaluation\u001B[0m\u001B[1;33m(\u001B[0m\u001B[0mget_current_thread_id\u001B[0m\u001B[1;33m(\u001B[0m\u001B[0mthread\u001B[0m\u001B[1;33m)\u001B[0m\u001B[1;33m,\u001B[0m \u001B[0mstr\u001B[0m\u001B[1;33m(\u001B[0m\u001B[0mid\u001B[0m\u001B[1;33m(\u001B[0m\u001B[0mframe\u001B[0m\u001B[1;33m)\u001B[0m\u001B[1;33m)\u001B[0m\u001B[1;33m)\u001B[0m\u001B[1;33m\u001B[0m\u001B[1;33m\u001B[0m\u001B[0m\n",
      "\u001B[1;31mKeyboardInterrupt\u001B[0m: "
     ]
    }
   ],
   "source": [
    "ecg_leads, ecg_labels, fs, ecg_names = load_references(folder=\"data/training\") # Importiere EKG-Dateien, zugehörige Diagnose, Sampling-Frequenz (Hz) und Name                                                # Sampling-Frequenz 300 Hz\n",
    "\n",
    "train_data, train_labels, val_data, val_labels, test_data, test_labels = preprocess(ecg_leads, ecg_labels)\n",
    "\n",
    "model = DeepMLModel()\n",
    "model.train(train_data, train_labels, val_data, val_labels, fs)\n",
    "\n",
    "#TODO: model testing\n",
    "start_time = time.time()\n",
    "model.test(train_data, train_labels, fs)\n",
    "pred_time = time.time() - start_time\n",
    "print(f'time needed for prediction calculation: {pred_time}')"
   ],
   "metadata": {
    "pycharm": {
     "name": "#%%\n"
    },
    "id": "yYQF8GXfEORJ",
    "outputId": "208e950e-3fb4-4999-8123-11d224bd2517"
   }
  },
  {
   "cell_type": "code",
   "execution_count": null,
   "outputs": [],
   "source": [
    ""
   ],
   "metadata": {
    "pycharm": {
     "name": "#%%\n"
    },
    "id": "nTKCMGxHEORJ"
   }
  }
 ],
 "metadata": {
  "kernelspec": {
   "display_name": "Python 3",
   "language": "python",
   "name": "python3"
  },
  "language_info": {
   "codemirror_mode": {
    "name": "ipython",
    "version": 2
   },
   "file_extension": ".py",
   "mimetype": "text/x-python",
   "name": "python",
   "nbconvert_exporter": "python",
   "pygments_lexer": "ipython2",
   "version": "2.7.6"
  },
  "colab": {
   "name": "train.ipynb",
   "provenance": [],
   "collapsed_sections": []
  }
 },
 "nbformat": 4,
 "nbformat_minor": 0
}