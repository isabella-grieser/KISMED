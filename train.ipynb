{
 "cells": [
  {
   "cell_type": "code",
   "execution_count": null,
   "outputs": [],
   "source": [
    "%pip install -r requirements.txt"
   ],
   "metadata": {
    "collapsed": false,
    "pycharm": {
     "name": "#%%\n"
    }
   }
  },
  {
   "cell_type": "code",
   "execution_count": null,
   "outputs": [],
   "source": [
    "import tensorflow as tf\n",
    "print(tf.config.list_physical_devices('GPU'))"
   ],
   "metadata": {
    "collapsed": false,
    "pycharm": {
     "name": "#%%\n"
    }
   }
  },
  {
   "cell_type": "code",
   "execution_count": 5,
   "metadata": {
    "executionInfo": {
     "elapsed": 6973,
     "status": "ok",
     "timestamp": 1652857005673,
     "user": {
      "displayName": "IsaN",
      "userId": "00818509363939310176"
     },
     "user_tz": -120
    },
    "id": "EhQjS5va6lm1",
    "outputId": "bb0c6acd-9c0e-43d6-e9c5-75b09fefdbd8",
    "pycharm": {
     "name": "#%%\n"
    }
   },
   "outputs": [
    {
     "name": "stderr",
     "output_type": "stream",
     "text": [
      "c:\\Users\\Isabella\\anaconda3\\envs\\kismed\\lib\\site-packages\\tensorflow_addons\\utils\\ensure_tf_install.py:53: UserWarning: Tensorflow Addons supports using Python ops for all Tensorflow versions above or equal to 2.6.0 and strictly below 2.9.0 (nightly versions are not supported). \n",
      " The versions of TensorFlow you are currently using is 2.9.0 and is not supported. \n",
      "Some things might work, some things might not.\n",
      "If you were to encounter a bug, do not file an issue.\n",
      "If you want to make sure you're using a tested and supported configuration, either change the TensorFlow version or the TensorFlow Addons's version. \n",
      "You can find the compatibility matrix in TensorFlow Addon's readme:\n",
      "https://github.com/tensorflow/addons\n",
      "  warnings.warn(\n"
     ]
    }
   ],
   "source": [
    "from models.deepmlmodel import DeepMLModel\n",
    "from wettbewerb import load_references\n",
    "from preprocessing.preprocessing import *\n",
    "from utils.utils import *\n",
    "import time"
   ]
  },
  {
   "cell_type": "code",
   "execution_count": 6,
   "metadata": {
    "id": "yYQF8GXfEORJ",
    "outputId": "208e950e-3fb4-4999-8123-11d224bd2517",
    "pycharm": {
     "name": "#%%\n"
    }
   },
   "outputs": [
    {
     "name": "stdout",
     "output_type": "stream",
     "text": [
      "6000\t Dateien wurden geladen.\n"
     ]
    },
    {
     "ename": "TypeError",
     "evalue": "Singleton array array(True) cannot be considered a valid collection.",
     "output_type": "error",
     "traceback": [
      "\u001B[1;31m---------------------------------------------------------------------------\u001B[0m",
      "\u001B[1;31mTypeError\u001B[0m                                 Traceback (most recent call last)",
      "\u001B[1;32md:\\Programming\\KISMED\\train.ipynb Cell 4'\u001B[0m in \u001B[0;36m<cell line: 3>\u001B[1;34m()\u001B[0m\n\u001B[0;32m      <a href='vscode-notebook-cell:/d%3A/Programming/KISMED/train.ipynb#ch0000003?line=0'>1</a>\u001B[0m ecg_leads, ecg_labels, fs, ecg_names \u001B[39m=\u001B[39m load_references(folder\u001B[39m=\u001B[39m\u001B[39m\"\u001B[39m\u001B[39mdata/training\u001B[39m\u001B[39m\"\u001B[39m) \u001B[39m# Importiere EKG-Dateien, zugehörige Diagnose, Sampling-Frequenz (Hz) und Name                                                # Sampling-Frequenz 300 Hz\u001B[39;00m\n\u001B[1;32m----> <a href='vscode-notebook-cell:/d%3A/Programming/KISMED/train.ipynb#ch0000003?line=2'>3</a>\u001B[0m train_data, train_labels, val_data, val_labels, test_data, test_labels \u001B[39m=\u001B[39m preprocess(ecg_leads, ecg_labels)\n\u001B[0;32m      <a href='vscode-notebook-cell:/d%3A/Programming/KISMED/train.ipynb#ch0000003?line=4'>5</a>\u001B[0m model \u001B[39m=\u001B[39m DeepMLModel()\n\u001B[0;32m      <a href='vscode-notebook-cell:/d%3A/Programming/KISMED/train.ipynb#ch0000003?line=5'>6</a>\u001B[0m model\u001B[39m.\u001B[39mtrain(train_data, train_labels, val_data, val_labels, fs)\n",
      "File \u001B[1;32md:\\Programming\\KISMED\\preprocessing\\preprocessing.py:25\u001B[0m, in \u001B[0;36mpreprocess\u001B[1;34m(data, labels)\u001B[0m\n\u001B[0;32m      <a href='file:///d%3A/Programming/KISMED/preprocessing/preprocessing.py?line=6'>7</a>\u001B[0m \u001B[39mdef\u001B[39;00m \u001B[39mpreprocess\u001B[39m(data, labels):\n\u001B[0;32m      <a href='file:///d%3A/Programming/KISMED/preprocessing/preprocessing.py?line=7'>8</a>\u001B[0m     \u001B[39m\"\"\"\u001B[39;00m\n\u001B[0;32m      <a href='file:///d%3A/Programming/KISMED/preprocessing/preprocessing.py?line=8'>9</a>\u001B[0m \u001B[39m    preprocess the data and divide it into train, val and test set\u001B[39;00m\n\u001B[0;32m     <a href='file:///d%3A/Programming/KISMED/preprocessing/preprocessing.py?line=9'>10</a>\u001B[0m \u001B[39m    Parameters\u001B[39;00m\n\u001B[1;32m   (...)\u001B[0m\n\u001B[0;32m     <a href='file:///d%3A/Programming/KISMED/preprocessing/preprocessing.py?line=22'>23</a>\u001B[0m \n\u001B[0;32m     <a href='file:///d%3A/Programming/KISMED/preprocessing/preprocessing.py?line=23'>24</a>\u001B[0m \u001B[39m    \"\"\"\u001B[39;00m\n\u001B[1;32m---> <a href='file:///d%3A/Programming/KISMED/preprocessing/preprocessing.py?line=24'>25</a>\u001B[0m     data_train, data_rest, y_train, y_rest \u001B[39m=\u001B[39m train_test_split(data, labels, train_size\u001B[39m=\u001B[39;49mTRAIN_SPLIT, stratify\u001B[39m=\u001B[39;49m\u001B[39mTrue\u001B[39;49;00m)\n\u001B[0;32m     <a href='file:///d%3A/Programming/KISMED/preprocessing/preprocessing.py?line=25'>26</a>\u001B[0m     data_val, data_test, y_val, y_test \u001B[39m=\u001B[39m train_test_split(data_rest, y_rest, train_size\u001B[39m=\u001B[39mVAL_SPLIT\u001B[39m/\u001B[39mTRAIN_SPLIT, stratify\u001B[39m=\u001B[39m\u001B[39mTrue\u001B[39;00m)\n\u001B[0;32m     <a href='file:///d%3A/Programming/KISMED/preprocessing/preprocessing.py?line=26'>27</a>\u001B[0m     \u001B[39mreturn\u001B[39;00m data_train, y_train, data_val, y_val, data_test, y_test\n",
      "File \u001B[1;32mc:\\Users\\Isabella\\anaconda3\\envs\\kismed\\lib\\site-packages\\sklearn\\model_selection\\_split.py:2454\u001B[0m, in \u001B[0;36mtrain_test_split\u001B[1;34m(test_size, train_size, random_state, shuffle, stratify, *arrays)\u001B[0m\n\u001B[0;32m   <a href='file:///c%3A/Users/Isabella/anaconda3/envs/kismed/lib/site-packages/sklearn/model_selection/_split.py?line=2449'>2450</a>\u001B[0m         CVClass \u001B[39m=\u001B[39m ShuffleSplit\n\u001B[0;32m   <a href='file:///c%3A/Users/Isabella/anaconda3/envs/kismed/lib/site-packages/sklearn/model_selection/_split.py?line=2451'>2452</a>\u001B[0m     cv \u001B[39m=\u001B[39m CVClass(test_size\u001B[39m=\u001B[39mn_test, train_size\u001B[39m=\u001B[39mn_train, random_state\u001B[39m=\u001B[39mrandom_state)\n\u001B[1;32m-> <a href='file:///c%3A/Users/Isabella/anaconda3/envs/kismed/lib/site-packages/sklearn/model_selection/_split.py?line=2453'>2454</a>\u001B[0m     train, test \u001B[39m=\u001B[39m \u001B[39mnext\u001B[39m(cv\u001B[39m.\u001B[39;49msplit(X\u001B[39m=\u001B[39;49marrays[\u001B[39m0\u001B[39;49m], y\u001B[39m=\u001B[39;49mstratify))\n\u001B[0;32m   <a href='file:///c%3A/Users/Isabella/anaconda3/envs/kismed/lib/site-packages/sklearn/model_selection/_split.py?line=2455'>2456</a>\u001B[0m \u001B[39mreturn\u001B[39;00m \u001B[39mlist\u001B[39m(\n\u001B[0;32m   <a href='file:///c%3A/Users/Isabella/anaconda3/envs/kismed/lib/site-packages/sklearn/model_selection/_split.py?line=2456'>2457</a>\u001B[0m     chain\u001B[39m.\u001B[39mfrom_iterable(\n\u001B[0;32m   <a href='file:///c%3A/Users/Isabella/anaconda3/envs/kismed/lib/site-packages/sklearn/model_selection/_split.py?line=2457'>2458</a>\u001B[0m         (_safe_indexing(a, train), _safe_indexing(a, test)) \u001B[39mfor\u001B[39;00m a \u001B[39min\u001B[39;00m arrays\n\u001B[0;32m   <a href='file:///c%3A/Users/Isabella/anaconda3/envs/kismed/lib/site-packages/sklearn/model_selection/_split.py?line=2458'>2459</a>\u001B[0m     )\n\u001B[0;32m   <a href='file:///c%3A/Users/Isabella/anaconda3/envs/kismed/lib/site-packages/sklearn/model_selection/_split.py?line=2459'>2460</a>\u001B[0m )\n",
      "File \u001B[1;32mc:\\Users\\Isabella\\anaconda3\\envs\\kismed\\lib\\site-packages\\sklearn\\model_selection\\_split.py:2035\u001B[0m, in \u001B[0;36mStratifiedShuffleSplit.split\u001B[1;34m(self, X, y, groups)\u001B[0m\n\u001B[0;32m   <a href='file:///c%3A/Users/Isabella/anaconda3/envs/kismed/lib/site-packages/sklearn/model_selection/_split.py?line=2000'>2001</a>\u001B[0m \u001B[39mdef\u001B[39;00m \u001B[39msplit\u001B[39m(\u001B[39mself\u001B[39m, X, y, groups\u001B[39m=\u001B[39m\u001B[39mNone\u001B[39;00m):\n\u001B[0;32m   <a href='file:///c%3A/Users/Isabella/anaconda3/envs/kismed/lib/site-packages/sklearn/model_selection/_split.py?line=2001'>2002</a>\u001B[0m     \u001B[39m\"\"\"Generate indices to split data into training and test set.\u001B[39;00m\n\u001B[0;32m   <a href='file:///c%3A/Users/Isabella/anaconda3/envs/kismed/lib/site-packages/sklearn/model_selection/_split.py?line=2002'>2003</a>\u001B[0m \n\u001B[0;32m   <a href='file:///c%3A/Users/Isabella/anaconda3/envs/kismed/lib/site-packages/sklearn/model_selection/_split.py?line=2003'>2004</a>\u001B[0m \u001B[39m    Parameters\u001B[39;00m\n\u001B[1;32m   (...)\u001B[0m\n\u001B[0;32m   <a href='file:///c%3A/Users/Isabella/anaconda3/envs/kismed/lib/site-packages/sklearn/model_selection/_split.py?line=2032'>2033</a>\u001B[0m \u001B[39m    to an integer.\u001B[39;00m\n\u001B[0;32m   <a href='file:///c%3A/Users/Isabella/anaconda3/envs/kismed/lib/site-packages/sklearn/model_selection/_split.py?line=2033'>2034</a>\u001B[0m \u001B[39m    \"\"\"\u001B[39;00m\n\u001B[1;32m-> <a href='file:///c%3A/Users/Isabella/anaconda3/envs/kismed/lib/site-packages/sklearn/model_selection/_split.py?line=2034'>2035</a>\u001B[0m     y \u001B[39m=\u001B[39m check_array(y, input_name\u001B[39m=\u001B[39;49m\u001B[39m\"\u001B[39;49m\u001B[39my\u001B[39;49m\u001B[39m\"\u001B[39;49m, ensure_2d\u001B[39m=\u001B[39;49m\u001B[39mFalse\u001B[39;49;00m, dtype\u001B[39m=\u001B[39;49m\u001B[39mNone\u001B[39;49;00m)\n\u001B[0;32m   <a href='file:///c%3A/Users/Isabella/anaconda3/envs/kismed/lib/site-packages/sklearn/model_selection/_split.py?line=2035'>2036</a>\u001B[0m     \u001B[39mreturn\u001B[39;00m \u001B[39msuper\u001B[39m()\u001B[39m.\u001B[39msplit(X, y, groups)\n",
      "File \u001B[1;32mc:\\Users\\Isabella\\anaconda3\\envs\\kismed\\lib\\site-packages\\sklearn\\utils\\validation.py:907\u001B[0m, in \u001B[0;36mcheck_array\u001B[1;34m(array, accept_sparse, accept_large_sparse, dtype, order, copy, force_all_finite, ensure_2d, allow_nd, ensure_min_samples, ensure_min_features, estimator, input_name)\u001B[0m\n\u001B[0;32m    <a href='file:///c%3A/Users/Isabella/anaconda3/envs/kismed/lib/site-packages/sklearn/utils/validation.py?line=898'>899</a>\u001B[0m         _assert_all_finite(\n\u001B[0;32m    <a href='file:///c%3A/Users/Isabella/anaconda3/envs/kismed/lib/site-packages/sklearn/utils/validation.py?line=899'>900</a>\u001B[0m             array,\n\u001B[0;32m    <a href='file:///c%3A/Users/Isabella/anaconda3/envs/kismed/lib/site-packages/sklearn/utils/validation.py?line=900'>901</a>\u001B[0m             input_name\u001B[39m=\u001B[39minput_name,\n\u001B[0;32m    <a href='file:///c%3A/Users/Isabella/anaconda3/envs/kismed/lib/site-packages/sklearn/utils/validation.py?line=901'>902</a>\u001B[0m             estimator_name\u001B[39m=\u001B[39mestimator_name,\n\u001B[0;32m    <a href='file:///c%3A/Users/Isabella/anaconda3/envs/kismed/lib/site-packages/sklearn/utils/validation.py?line=902'>903</a>\u001B[0m             allow_nan\u001B[39m=\u001B[39mforce_all_finite \u001B[39m==\u001B[39m \u001B[39m\"\u001B[39m\u001B[39mallow-nan\u001B[39m\u001B[39m\"\u001B[39m,\n\u001B[0;32m    <a href='file:///c%3A/Users/Isabella/anaconda3/envs/kismed/lib/site-packages/sklearn/utils/validation.py?line=903'>904</a>\u001B[0m         )\n\u001B[0;32m    <a href='file:///c%3A/Users/Isabella/anaconda3/envs/kismed/lib/site-packages/sklearn/utils/validation.py?line=905'>906</a>\u001B[0m \u001B[39mif\u001B[39;00m ensure_min_samples \u001B[39m>\u001B[39m \u001B[39m0\u001B[39m:\n\u001B[1;32m--> <a href='file:///c%3A/Users/Isabella/anaconda3/envs/kismed/lib/site-packages/sklearn/utils/validation.py?line=906'>907</a>\u001B[0m     n_samples \u001B[39m=\u001B[39m _num_samples(array)\n\u001B[0;32m    <a href='file:///c%3A/Users/Isabella/anaconda3/envs/kismed/lib/site-packages/sklearn/utils/validation.py?line=907'>908</a>\u001B[0m     \u001B[39mif\u001B[39;00m n_samples \u001B[39m<\u001B[39m ensure_min_samples:\n\u001B[0;32m    <a href='file:///c%3A/Users/Isabella/anaconda3/envs/kismed/lib/site-packages/sklearn/utils/validation.py?line=908'>909</a>\u001B[0m         \u001B[39mraise\u001B[39;00m \u001B[39mValueError\u001B[39;00m(\n\u001B[0;32m    <a href='file:///c%3A/Users/Isabella/anaconda3/envs/kismed/lib/site-packages/sklearn/utils/validation.py?line=909'>910</a>\u001B[0m             \u001B[39m\"\u001B[39m\u001B[39mFound array with \u001B[39m\u001B[39m%d\u001B[39;00m\u001B[39m sample(s) (shape=\u001B[39m\u001B[39m%s\u001B[39;00m\u001B[39m) while a\u001B[39m\u001B[39m\"\u001B[39m\n\u001B[0;32m    <a href='file:///c%3A/Users/Isabella/anaconda3/envs/kismed/lib/site-packages/sklearn/utils/validation.py?line=910'>911</a>\u001B[0m             \u001B[39m\"\u001B[39m\u001B[39m minimum of \u001B[39m\u001B[39m%d\u001B[39;00m\u001B[39m is required\u001B[39m\u001B[39m%s\u001B[39;00m\u001B[39m.\u001B[39m\u001B[39m\"\u001B[39m\n\u001B[0;32m    <a href='file:///c%3A/Users/Isabella/anaconda3/envs/kismed/lib/site-packages/sklearn/utils/validation.py?line=911'>912</a>\u001B[0m             \u001B[39m%\u001B[39m (n_samples, array\u001B[39m.\u001B[39mshape, ensure_min_samples, context)\n\u001B[0;32m    <a href='file:///c%3A/Users/Isabella/anaconda3/envs/kismed/lib/site-packages/sklearn/utils/validation.py?line=912'>913</a>\u001B[0m         )\n",
      "File \u001B[1;32mc:\\Users\\Isabella\\anaconda3\\envs\\kismed\\lib\\site-packages\\sklearn\\utils\\validation.py:325\u001B[0m, in \u001B[0;36m_num_samples\u001B[1;34m(x)\u001B[0m\n\u001B[0;32m    <a href='file:///c%3A/Users/Isabella/anaconda3/envs/kismed/lib/site-packages/sklearn/utils/validation.py?line=322'>323</a>\u001B[0m \u001B[39mif\u001B[39;00m \u001B[39mhasattr\u001B[39m(x, \u001B[39m\"\u001B[39m\u001B[39mshape\u001B[39m\u001B[39m\"\u001B[39m) \u001B[39mand\u001B[39;00m x\u001B[39m.\u001B[39mshape \u001B[39mis\u001B[39;00m \u001B[39mnot\u001B[39;00m \u001B[39mNone\u001B[39;00m:\n\u001B[0;32m    <a href='file:///c%3A/Users/Isabella/anaconda3/envs/kismed/lib/site-packages/sklearn/utils/validation.py?line=323'>324</a>\u001B[0m     \u001B[39mif\u001B[39;00m \u001B[39mlen\u001B[39m(x\u001B[39m.\u001B[39mshape) \u001B[39m==\u001B[39m \u001B[39m0\u001B[39m:\n\u001B[1;32m--> <a href='file:///c%3A/Users/Isabella/anaconda3/envs/kismed/lib/site-packages/sklearn/utils/validation.py?line=324'>325</a>\u001B[0m         \u001B[39mraise\u001B[39;00m \u001B[39mTypeError\u001B[39;00m(\n\u001B[0;32m    <a href='file:///c%3A/Users/Isabella/anaconda3/envs/kismed/lib/site-packages/sklearn/utils/validation.py?line=325'>326</a>\u001B[0m             \u001B[39m\"\u001B[39m\u001B[39mSingleton array \u001B[39m\u001B[39m%r\u001B[39;00m\u001B[39m cannot be considered a valid collection.\u001B[39m\u001B[39m\"\u001B[39m \u001B[39m%\u001B[39m x\n\u001B[0;32m    <a href='file:///c%3A/Users/Isabella/anaconda3/envs/kismed/lib/site-packages/sklearn/utils/validation.py?line=326'>327</a>\u001B[0m         )\n\u001B[0;32m    <a href='file:///c%3A/Users/Isabella/anaconda3/envs/kismed/lib/site-packages/sklearn/utils/validation.py?line=327'>328</a>\u001B[0m     \u001B[39m# Check that shape is returning an integer or default to len\u001B[39;00m\n\u001B[0;32m    <a href='file:///c%3A/Users/Isabella/anaconda3/envs/kismed/lib/site-packages/sklearn/utils/validation.py?line=328'>329</a>\u001B[0m     \u001B[39m# Dask dataframes may not return numeric shape[0] value\u001B[39;00m\n\u001B[0;32m    <a href='file:///c%3A/Users/Isabella/anaconda3/envs/kismed/lib/site-packages/sklearn/utils/validation.py?line=329'>330</a>\u001B[0m     \u001B[39mif\u001B[39;00m \u001B[39misinstance\u001B[39m(x\u001B[39m.\u001B[39mshape[\u001B[39m0\u001B[39m], numbers\u001B[39m.\u001B[39mIntegral):\n",
      "\u001B[1;31mTypeError\u001B[0m: Singleton array array(True) cannot be considered a valid collection."
     ]
    }
   ],
   "source": [
    "ecg_leads, ecg_labels, fs, ecg_names = load_references(folder=\"data/training\") # Importiere EKG-Dateien, zugehörige Diagnose, Sampling-Frequenz (Hz) und Name                                                # Sampling-Frequenz 300 Hz\n",
    "\n",
    "train_data, train_labels, val_data, val_labels, test_data, test_labels = preprocess(ecg_leads, ecg_labels)\n",
    "\n",
    "model = DeepMLModel()\n",
    "model.train(train_data, train_labels, val_data, val_labels, fs)\n",
    "\n",
    "#TODO: model testing\n",
    "start_time = time.time()\n",
    "model.test(train_data, train_labels, fs)\n",
    "pred_time = time.time() - start_time\n",
    "print(f'time needed for prediction calculation: {pred_time}')"
   ]
  },
  {
   "cell_type": "code",
   "execution_count": null,
   "metadata": {
    "id": "nTKCMGxHEORJ",
    "pycharm": {
     "name": "#%%\n"
    }
   },
   "outputs": [],
   "source": []
  }
 ],
 "metadata": {
  "colab": {
   "collapsed_sections": [],
   "name": "train.ipynb",
   "provenance": []
  },
  "interpreter": {
   "hash": "9362d334954a61bc67be4a8090a074312963da173048daa6a0f4802c5ae625a5"
  },
  "kernelspec": {
   "display_name": "Python 3.10.4 ('kismed')",
   "language": "python",
   "name": "python3"
  },
  "language_info": {
   "codemirror_mode": {
    "name": "ipython",
    "version": 3
   },
   "file_extension": ".py",
   "mimetype": "text/x-python",
   "name": "python",
   "nbconvert_exporter": "python",
   "pygments_lexer": "ipython3",
   "version": "3.10.4"
  }
 },
 "nbformat": 4,
 "nbformat_minor": 0
}