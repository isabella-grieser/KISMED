{
 "cells": [
  {
   "cell_type": "code",
   "execution_count": 3,
   "metadata": {},
   "outputs": [
    {
     "name": "stdout",
     "output_type": "stream",
     "text": [
      "d:\\Bildung\\Uni\\Elektrotechnik\\Master\\Wettbewerb in der künstlichen Intelligenz\n"
     ]
    },
    {
     "name": "stderr",
     "output_type": "stream",
     "text": [
      "ERROR: Could not open requirements file: [Errno 2] No such file or directory: 'requirements.txt'\n"
     ]
    }
   ],
   "source": [
    "# this notebook is only to check if the submission works\n",
    "!pip3 install -r requirements.txt"
   ]
  },
  {
   "cell_type": "code",
   "execution_count": null,
   "metadata": {},
   "outputs": [
    {
     "name": "stdout",
     "output_type": "stream",
     "text": [
      "2\t Dateien wurden geladen.\n",
      "Model: \"sequential\"\n",
      "_________________________________________________________________\n",
      " Layer (type)                Output Shape              Param #   \n",
      "=================================================================\n",
      " conv1d (Conv1D)             (None, 112, 225)          900       \n",
      "                                                                 \n",
      " batch_normalization (BatchN  (None, 112, 225)         900       \n",
      " ormalization)                                                   \n",
      "                                                                 \n",
      " max_pooling1d (MaxPooling1D  (None, 56, 225)          0         \n",
      " )                                                               \n",
      "                                                                 \n",
      " conv1d_1 (Conv1D)           (None, 27, 150)           101400    \n",
      "                                                                 \n",
      " batch_normalization_1 (Batc  (None, 27, 150)          600       \n",
      " hNormalization)                                                 \n",
      "                                                                 \n",
      " max_pooling1d_1 (MaxPooling  (None, 13, 150)          0         \n",
      " 1D)                                                             \n",
      "                                                                 \n",
      " conv1d_2 (Conv1D)           (None, 6, 112)            50512     \n",
      "                                                                 \n",
      " batch_normalization_2 (Batc  (None, 6, 112)           448       \n",
      " hNormalization)                                                 \n",
      "                                                                 \n",
      " max_pooling1d_2 (MaxPooling  (None, 3, 112)           0         \n",
      " 1D)                                                             \n",
      "                                                                 \n",
      " bidirectional (Bidirectiona  (None, 3, 256)           246784    \n",
      " l)                                                              \n",
      "                                                                 \n",
      " flatten (Flatten)           (None, 768)               0         \n",
      "                                                                 \n",
      " dense (Dense)               (None, 256)               196864    \n",
      "                                                                 \n",
      " dropout (Dropout)           (None, 256)               0         \n",
      "                                                                 \n",
      " dense_1 (Dense)             (None, 2)                 514       \n",
      "                                                                 \n",
      " softmax (Softmax)           (None, 2)                 0         \n",
      "                                                                 \n",
      "=================================================================\n",
      "Total params: 598,922\n",
      "Trainable params: 597,948\n",
      "Non-trainable params: 974\n",
      "_________________________________________________________________\n",
      "2\t Labels wurden geschrieben.\n",
      "Runtime 3.554163932800293 s\n"
     ]
    },
    {
     "ename": "",
     "evalue": "",
     "output_type": "error",
     "traceback": [
      "\u001b[1;31mnotebook controller is DISPOSED. \n",
      "View Jupyter <a href='command:jupyter.viewOutput'>log</a> for further details."
     ]
    }
   ],
   "source": [
    "from predict import predict_labels\n",
    "from wettbewerb import load_references, save_predictions\n",
    "import time\n",
    "\n",
    "    \n",
    "ecg_leads,ecg_labels,fs,ecg_names = load_references(\"data/test\") # Importiere EKG-Dateien, zugehörige Diagnose, Sampling-Frequenz (Hz) und Name                                                # Sampling-Frequenz 300 Hz\n",
    "    \n",
    "start_time = time.time()\n",
    "predictions = predict_labels(ecg_leads,fs,ecg_names)\n",
    "pred_time = time.time()-start_time\n",
    "    \n",
    "save_predictions(predictions) # speichert Prädiktion in CSV Datei\n",
    "print(\"Runtime\",pred_time,\"s\")\n"
   ]
  }
 ],
 "metadata": {
  "interpreter": {
   "hash": "a594bde03e0d4e3335cf8df407b4f8f904a0ad4b6400bf71a799ced67dd11a3d"
  },
  "kernelspec": {
   "display_name": "Python 3.10.4",
   "language": "python",
   "name": "python3"
  },
  "language_info": {
   "codemirror_mode": {
    "name": "ipython",
    "version": 3
   },
   "file_extension": ".py",
   "mimetype": "text/x-python",
   "name": "python",
   "nbconvert_exporter": "python",
   "pygments_lexer": "ipython3",
   "version": "3.10.4"
  },
  "orig_nbformat": 4
 },
 "nbformat": 4,
 "nbformat_minor": 2
}
