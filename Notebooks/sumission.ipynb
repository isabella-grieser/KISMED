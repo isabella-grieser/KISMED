{
 "cells": [
  {
   "cell_type": "code",
   "execution_count": 1,
   "metadata": {},
   "outputs": [],
   "source": [
    "# this notebook is only to check if the submission works\n",
    "%cd ..\n",
    "!pip3 install -r requirements.txt"
   ]
  },
  {
   "cell_type": "code",
   "execution_count": 2,
   "metadata": {},
   "outputs": [
    {
     "ename": "ModuleNotFoundError",
     "evalue": "No module named 'predict'",
     "output_type": "error",
     "traceback": [
      "\u001b[1;31m---------------------------------------------------------------------------\u001b[0m",
      "\u001b[1;31mModuleNotFoundError\u001b[0m                       Traceback (most recent call last)",
      "\u001b[1;32md:\\Bildung\\Uni\\Elektrotechnik\\Master\\Wettbewerb in der künstlichen Intelligenz\\repository\\KISMED\\Notebooks\\sumission.ipynb Cell 2'\u001b[0m in \u001b[0;36m<cell line: 1>\u001b[1;34m()\u001b[0m\n\u001b[1;32m----> <a href='vscode-notebook-cell:/d%3A/Bildung/Uni/Elektrotechnik/Master/Wettbewerb%20in%20der%20k%C3%BCnstlichen%20Intelligenz/repository/KISMED/Notebooks/sumission.ipynb#ch0000001?line=0'>1</a>\u001b[0m \u001b[39mfrom\u001b[39;00m \u001b[39mpredict\u001b[39;00m \u001b[39mimport\u001b[39;00m predict_labels\n\u001b[0;32m      <a href='vscode-notebook-cell:/d%3A/Bildung/Uni/Elektrotechnik/Master/Wettbewerb%20in%20der%20k%C3%BCnstlichen%20Intelligenz/repository/KISMED/Notebooks/sumission.ipynb#ch0000001?line=1'>2</a>\u001b[0m \u001b[39mfrom\u001b[39;00m \u001b[39mwettbewerb\u001b[39;00m \u001b[39mimport\u001b[39;00m load_references, save_predictions\n\u001b[0;32m      <a href='vscode-notebook-cell:/d%3A/Bildung/Uni/Elektrotechnik/Master/Wettbewerb%20in%20der%20k%C3%BCnstlichen%20Intelligenz/repository/KISMED/Notebooks/sumission.ipynb#ch0000001?line=2'>3</a>\u001b[0m \u001b[39mimport\u001b[39;00m \u001b[39margparse\u001b[39;00m\n",
      "\u001b[1;31mModuleNotFoundError\u001b[0m: No module named 'predict'"
     ]
    }
   ],
   "source": [
    "from predict import predict_labels\n",
    "from wettbewerb import load_references, save_predictions\n",
    "import argparse\n",
    "import time\n",
    "\n",
    "parser = argparse.ArgumentParser(description='Predict given Model')\n",
    "parser.add_argument('--test_dir', action='store', type=str, default='data/test')\n",
    "parser.add_argument('--model_name', action='store', type=str, default='model.npy')\n",
    "args = parser.parse_args()\n",
    "    \n",
    "ecg_leads,ecg_labels,fs,ecg_names = load_references(args.test_dir) # Importiere EKG-Dateien, zugehörige Diagnose, Sampling-Frequenz (Hz) und Name                                                # Sampling-Frequenz 300 Hz\n",
    "    \n",
    "start_time = time.time()\n",
    "predictions = predict_labels(ecg_leads,fs,ecg_names,model_name=args.model_name)\n",
    "pred_time = time.time()-start_time\n",
    "    \n",
    "save_predictions(predictions) # speichert Prädiktion in CSV Datei\n",
    "print(\"Runtime\",pred_time,\"s\")\n"
   ]
  }
 ],
 "metadata": {
  "interpreter": {
   "hash": "a594bde03e0d4e3335cf8df407b4f8f904a0ad4b6400bf71a799ced67dd11a3d"
  },
  "kernelspec": {
   "display_name": "Python 3.10.4",
   "language": "python",
   "name": "python3"
  },
  "language_info": {
   "codemirror_mode": {
    "name": "ipython",
    "version": 3
   },
   "file_extension": ".py",
   "mimetype": "text/x-python",
   "name": "python",
   "nbconvert_exporter": "python",
   "pygments_lexer": "ipython3",
   "version": "3.10.4"
  },
  "orig_nbformat": 4
 },
 "nbformat": 4,
 "nbformat_minor": 2
}
