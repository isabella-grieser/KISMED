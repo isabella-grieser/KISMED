{
 "cells": [
  {
   "cell_type": "code",
   "execution_count": 3,
   "metadata": {},
   "outputs": [],
   "source": [
    "import os\n",
    "\n",
    "if (os.path.basename(os.getcwd()) == 'Notebooks'):\n",
    "    os.chdir('..')"
   ]
  },
  {
   "cell_type": "code",
   "execution_count": 1,
   "metadata": {},
   "outputs": [],
   "source": [
    "import numpy as np\n",
    "import pandas as pd\n",
    "import csv\n",
    "import sklearn\n",
    "from sklearn import preprocessing\n",
    "from sklearn.ensemble import RandomForestClassifier"
   ]
  },
  {
   "cell_type": "code",
   "execution_count": 6,
   "metadata": {},
   "outputs": [],
   "source": [
    "df_train = pd.read_csv(\"csv_data/feature_extracted_train_data.csv\")\n",
    "features = np.array(df_train[[\"r_p_diff\", \"score\", \"sd1\",\"sd2\",\"sd1/sd2\",\"beats_per_sec\",\"dom_freq\"]])\n",
    "target = np.array(df_train[\"label\"])\n",
    "X, y = features, target\n",
    "\n",
    "#Normalized\n",
    "scaler = preprocessing.MinMaxScaler()\n",
    "X = scaler.fit_transform(X)"
   ]
  },
  {
   "cell_type": "code",
   "execution_count": 9,
   "metadata": {},
   "outputs": [],
   "source": [
    "clf = RandomForestClassifier(max_depth = 30, random_state=0)\n",
    "clf = clf.fit(X, y)"
   ]
  },
  {
   "cell_type": "code",
   "execution_count": 10,
   "metadata": {},
   "outputs": [],
   "source": [
    "df_test = pd.read_csv(\"csv_data/feature_extracted_test_data.csv\")\n",
    "features = np.array(df_test[[\"r_p_diff\", \"score\", \"sd1\",\"sd2\",\"sd1/sd2\",\"beats_per_sec\",\"dom_freq\"]])\n",
    "target = np.array(df_test[\"label\"])\n",
    "test_f, test_l = features, target"
   ]
  },
  {
   "cell_type": "code",
   "execution_count": 11,
   "metadata": {},
   "outputs": [
    {
     "name": "stdout",
     "output_type": "stream",
     "text": [
      "              precision    recall  f1-score   support\n",
      "\n",
      "           A       0.89      0.73      0.80        91\n",
      "           N       0.96      0.99      0.97       628\n",
      "\n",
      "    accuracy                           0.95       719\n",
      "   macro avg       0.93      0.86      0.89       719\n",
      "weighted avg       0.95      0.95      0.95       719\n",
      "\n"
     ]
    }
   ],
   "source": [
    "test_f = scaler.transform(test_f)\n",
    "pred = clf.predict(test_f)\n",
    "\n",
    "table = sklearn.metrics.classification_report(test_l, pred)\n",
    "print(table)"
   ]
  }
 ],
 "metadata": {
  "kernelspec": {
   "display_name": "Python 3",
   "language": "python",
   "name": "python3"
  },
  "language_info": {
   "codemirror_mode": {
    "name": "ipython",
    "version": 3
   },
   "file_extension": ".py",
   "mimetype": "text/x-python",
   "name": "python",
   "nbconvert_exporter": "python",
   "pygments_lexer": "ipython3",
   "version": "3.7.6"
  }
 },
 "nbformat": 4,
 "nbformat_minor": 4
}
