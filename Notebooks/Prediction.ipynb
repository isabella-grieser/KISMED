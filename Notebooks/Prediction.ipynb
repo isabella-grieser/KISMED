{
 "cells": [
  {
   "cell_type": "code",
   "execution_count": 19,
   "metadata": {},
   "outputs": [],
   "source": [
    "import pandas as pd\n",
    "import numpy as np\n",
    "import matplotlib.pyplot as plt"
   ]
  },
  {
   "cell_type": "code",
   "execution_count": 5,
   "metadata": {},
   "outputs": [],
   "source": [
    "df = pd.read_csv(\"N_A_analysis_3.csv\")"
   ]
  },
  {
   "cell_type": "code",
   "execution_count": 30,
   "metadata": {},
   "outputs": [
    {
     "data": {
      "text/html": [
       "<div>\n",
       "<style scoped>\n",
       "    .dataframe tbody tr th:only-of-type {\n",
       "        vertical-align: middle;\n",
       "    }\n",
       "\n",
       "    .dataframe tbody tr th {\n",
       "        vertical-align: top;\n",
       "    }\n",
       "\n",
       "    .dataframe thead th {\n",
       "        text-align: right;\n",
       "    }\n",
       "</style>\n",
       "<table border=\"1\" class=\"dataframe\">\n",
       "  <thead>\n",
       "    <tr style=\"text-align: right;\">\n",
       "      <th></th>\n",
       "      <th>Unnamed: 0</th>\n",
       "      <th>File_name</th>\n",
       "      <th>Num_R_peaks</th>\n",
       "      <th>Num_P_peaks</th>\n",
       "      <th>distribution_score</th>\n",
       "      <th>label</th>\n",
       "      <th>R_P_difference</th>\n",
       "    </tr>\n",
       "  </thead>\n",
       "  <tbody>\n",
       "    <tr>\n",
       "      <th>0</th>\n",
       "      <td>0</td>\n",
       "      <td>train_ecg_00001</td>\n",
       "      <td>27</td>\n",
       "      <td>27</td>\n",
       "      <td>0.923077</td>\n",
       "      <td>N</td>\n",
       "      <td>0</td>\n",
       "    </tr>\n",
       "    <tr>\n",
       "      <th>1</th>\n",
       "      <td>1</td>\n",
       "      <td>train_ecg_00002</td>\n",
       "      <td>31</td>\n",
       "      <td>30</td>\n",
       "      <td>0.833333</td>\n",
       "      <td>N</td>\n",
       "      <td>1</td>\n",
       "    </tr>\n",
       "    <tr>\n",
       "      <th>2</th>\n",
       "      <td>2</td>\n",
       "      <td>train_ecg_00004</td>\n",
       "      <td>30</td>\n",
       "      <td>29</td>\n",
       "      <td>0.931034</td>\n",
       "      <td>N</td>\n",
       "      <td>1</td>\n",
       "    </tr>\n",
       "    <tr>\n",
       "      <th>3</th>\n",
       "      <td>3</td>\n",
       "      <td>train_ecg_00006</td>\n",
       "      <td>36</td>\n",
       "      <td>35</td>\n",
       "      <td>0.742857</td>\n",
       "      <td>N</td>\n",
       "      <td>1</td>\n",
       "    </tr>\n",
       "    <tr>\n",
       "      <th>4</th>\n",
       "      <td>4</td>\n",
       "      <td>train_ecg_00007</td>\n",
       "      <td>16</td>\n",
       "      <td>16</td>\n",
       "      <td>0.800000</td>\n",
       "      <td>N</td>\n",
       "      <td>0</td>\n",
       "    </tr>\n",
       "  </tbody>\n",
       "</table>\n",
       "</div>"
      ],
      "text/plain": [
       "   Unnamed: 0        File_name  Num_R_peaks  Num_P_peaks  distribution_score  \\\n",
       "0           0  train_ecg_00001           27           27            0.923077   \n",
       "1           1  train_ecg_00002           31           30            0.833333   \n",
       "2           2  train_ecg_00004           30           29            0.931034   \n",
       "3           3  train_ecg_00006           36           35            0.742857   \n",
       "4           4  train_ecg_00007           16           16            0.800000   \n",
       "\n",
       "  label  R_P_difference  \n",
       "0     N               0  \n",
       "1     N               1  \n",
       "2     N               1  \n",
       "3     N               1  \n",
       "4     N               0  "
      ]
     },
     "execution_count": 30,
     "metadata": {},
     "output_type": "execute_result"
    }
   ],
   "source": [
    "df[\"R_P_difference\"] = df[\"Num_R_peaks\"] - df[\"Num_P_peaks\"]\n",
    "df.head()"
   ]
  },
  {
   "cell_type": "code",
   "execution_count": 77,
   "metadata": {},
   "outputs": [],
   "source": [
    "df_train = df.iloc[0:800]\n",
    "df_test = df.iloc[800:]"
   ]
  },
  {
   "cell_type": "code",
   "execution_count": 93,
   "metadata": {},
   "outputs": [],
   "source": [
    "N_df = df_train[df_train[\"label\"] == 'N']\n",
    "A_df = df_train[df_train[\"label\"] == 'A']"
   ]
  },
  {
   "cell_type": "code",
   "execution_count": 94,
   "metadata": {},
   "outputs": [
    {
     "name": "stdout",
     "output_type": "stream",
     "text": [
      "1.8115942028985508\n",
      "11.863636363636363\n"
     ]
    }
   ],
   "source": [
    "N_mean_R_P_diff = N_df[\"R_P_difference\"].mean()\n",
    "A_mean_R_P_diff = A_df[\"R_P_difference\"].mean()\n",
    "print(N_mean_R_P_diff)\n",
    "print(A_mean_R_P_diff)"
   ]
  },
  {
   "cell_type": "code",
   "execution_count": 95,
   "metadata": {},
   "outputs": [
    {
     "name": "stdout",
     "output_type": "stream",
     "text": [
      "0.8832436411667433\n",
      "0.5673602079959135\n"
     ]
    }
   ],
   "source": [
    "N_mean_dist_score = N_df[\"distribution_score\"].mean()\n",
    "A_mean_dist_score = A_df[\"distribution_score\"].mean()\n",
    "print(N_mean_dist_score)\n",
    "print(A_mean_dist_score)"
   ]
  },
  {
   "cell_type": "code",
   "execution_count": 96,
   "metadata": {},
   "outputs": [
    {
     "data": {
      "text/plain": [
       "(array([87., 16.,  3.,  2.,  2.]),\n",
       " array([ 0. , 18.2, 36.4, 54.6, 72.8, 91. ]),\n",
       " <a list of 5 Patch objects>)"
      ]
     },
     "execution_count": 96,
     "metadata": {},
     "output_type": "execute_result"
    },
    {
     "data": {
      "image/png": "[encoded data removed]",
      "text/plain": [
       "<Figure size 432x288 with 1 Axes>"
      ]
     },
     "metadata": {
      "needs_background": "light"
     },
     "output_type": "display_data"
    }
   ],
   "source": [
    "plt.hist(N_df[\"R_P_difference\"], bins = 5)\n",
    "plt.hist(A_df[\"R_P_difference\"], bins = 5)\n"
   ]
  },
  {
   "cell_type": "code",
   "execution_count": 97,
   "metadata": {},
   "outputs": [
    {
     "data": {
      "text/plain": [
       "(array([ 3.,  2., 10., 12., 20., 18., 12., 13., 11.,  9.]),\n",
       " array([0.02439024, 0.12195122, 0.2195122 , 0.31707317, 0.41463415,\n",
       "        0.51219512, 0.6097561 , 0.70731707, 0.80487805, 0.90243902,\n",
       "        1.        ]),\n",
       " <a list of 10 Patch objects>)"
      ]
     },
     "execution_count": 97,
     "metadata": {},
     "output_type": "execute_result"
    },
    {
     "data": {
      "image/png": "[encoded data removed]",
      "text/plain": [
       "<Figure size 432x288 with 1 Axes>"
      ]
     },
     "metadata": {
      "needs_background": "light"
     },
     "output_type": "display_data"
    }
   ],
   "source": [
    "plt.hist(N_df[\"distribution_score\"], bins = 10)\n",
    "plt.hist(A_df[\"distribution_score\"], bins = 10)"
   ]
  },
  {
   "cell_type": "code",
   "execution_count": 105,
   "metadata": {},
   "outputs": [],
   "source": [
    "from sklearn import tree\n",
    "\n",
    "features = np.array(df_train[[\"R_P_difference\", \"distribution_score\"]])\n",
    "target = np.array(df_train[\"label\"])\n",
    "X, y = features, target\n",
    "clf = tree.DecisionTreeClassifier()\n",
    "clf = clf.fit(X, y)\n"
   ]
  },
  {
   "cell_type": "code",
   "execution_count": 106,
   "metadata": {},
   "outputs": [],
   "source": [
    "test_data = np.array(df_test[[\"R_P_difference\", \"distribution_score\"]])\n",
    "test_labels = np.array(df_test[\"label\"])"
   ]
  },
  {
   "cell_type": "code",
   "execution_count": 107,
   "metadata": {},
   "outputs": [],
   "source": [
    "pred = clf.predict(test_data)"
   ]
  },
  {
   "cell_type": "code",
   "execution_count": 108,
   "metadata": {},
   "outputs": [],
   "source": [
    "df_result = pd.DataFrame(columns = ['True_labels', 'Prediction'])\n",
    "df_result['True_labels'] = test_labels \n",
    "df_result['Prediction'] = pred \n",
    "conditions = [df_result['True_labels'] == df_result['Prediction']]\n",
    "\n",
    "#define choices\n",
    "choices = [1]\n",
    "\n",
    "#create new column in DataFrame that displays results of comparisons\n",
    "df_result['correct'] = np.select(conditions, choices, default=0)\n"
   ]
  },
  {
   "cell_type": "code",
   "execution_count": 109,
   "metadata": {},
   "outputs": [
    {
     "data": {
      "text/html": [
       "<div>\n",
       "<style scoped>\n",
       "    .dataframe tbody tr th:only-of-type {\n",
       "        vertical-align: middle;\n",
       "    }\n",
       "\n",
       "    .dataframe tbody tr th {\n",
       "        vertical-align: top;\n",
       "    }\n",
       "\n",
       "    .dataframe thead th {\n",
       "        text-align: right;\n",
       "    }\n",
       "</style>\n",
       "<table border=\"1\" class=\"dataframe\">\n",
       "  <thead>\n",
       "    <tr style=\"text-align: right;\">\n",
       "      <th></th>\n",
       "      <th>True_labels</th>\n",
       "      <th>Prediction</th>\n",
       "      <th>correct</th>\n",
       "    </tr>\n",
       "  </thead>\n",
       "  <tbody>\n",
       "    <tr>\n",
       "      <th>0</th>\n",
       "      <td>N</td>\n",
       "      <td>N</td>\n",
       "      <td>1</td>\n",
       "    </tr>\n",
       "    <tr>\n",
       "      <th>1</th>\n",
       "      <td>N</td>\n",
       "      <td>N</td>\n",
       "      <td>1</td>\n",
       "    </tr>\n",
       "    <tr>\n",
       "      <th>2</th>\n",
       "      <td>N</td>\n",
       "      <td>N</td>\n",
       "      <td>1</td>\n",
       "    </tr>\n",
       "    <tr>\n",
       "      <th>3</th>\n",
       "      <td>N</td>\n",
       "      <td>N</td>\n",
       "      <td>1</td>\n",
       "    </tr>\n",
       "    <tr>\n",
       "      <th>4</th>\n",
       "      <td>N</td>\n",
       "      <td>N</td>\n",
       "      <td>1</td>\n",
       "    </tr>\n",
       "    <tr>\n",
       "      <th>...</th>\n",
       "      <td>...</td>\n",
       "      <td>...</td>\n",
       "      <td>...</td>\n",
       "    </tr>\n",
       "    <tr>\n",
       "      <th>208</th>\n",
       "      <td>N</td>\n",
       "      <td>N</td>\n",
       "      <td>1</td>\n",
       "    </tr>\n",
       "    <tr>\n",
       "      <th>209</th>\n",
       "      <td>A</td>\n",
       "      <td>N</td>\n",
       "      <td>0</td>\n",
       "    </tr>\n",
       "    <tr>\n",
       "      <th>210</th>\n",
       "      <td>N</td>\n",
       "      <td>N</td>\n",
       "      <td>1</td>\n",
       "    </tr>\n",
       "    <tr>\n",
       "      <th>211</th>\n",
       "      <td>N</td>\n",
       "      <td>N</td>\n",
       "      <td>1</td>\n",
       "    </tr>\n",
       "    <tr>\n",
       "      <th>212</th>\n",
       "      <td>N</td>\n",
       "      <td>A</td>\n",
       "      <td>0</td>\n",
       "    </tr>\n",
       "  </tbody>\n",
       "</table>\n",
       "<p>213 rows × 3 columns</p>\n",
       "</div>"
      ],
      "text/plain": [
       "    True_labels Prediction  correct\n",
       "0             N          N        1\n",
       "1             N          N        1\n",
       "2             N          N        1\n",
       "3             N          N        1\n",
       "4             N          N        1\n",
       "..          ...        ...      ...\n",
       "208           N          N        1\n",
       "209           A          N        0\n",
       "210           N          N        1\n",
       "211           N          N        1\n",
       "212           N          A        0\n",
       "\n",
       "[213 rows x 3 columns]"
      ]
     },
     "execution_count": 109,
     "metadata": {},
     "output_type": "execute_result"
    }
   ],
   "source": [
    "df_result"
   ]
  },
  {
   "cell_type": "code",
   "execution_count": 110,
   "metadata": {},
   "outputs": [],
   "source": [
    "N_true_label = df_result[df_result[\"True_labels\"] == 'N']\n",
    "A_true_label = df_result[df_result[\"True_labels\"] == 'A']\n",
    "\n",
    "N_correct = N_true_label[N_true_label['correct'] == 1]\n",
    "A_correct = A_true_label[A_true_label['correct'] == 1]\n",
    "\n",
    "F1_macro_score_N = len(N_correct)/ len(N_true_label)\n",
    "F1_macro_score_A = len(A_correct)/ len(A_true_label)\n",
    "\n",
    "overall_accuracy = (len(N_correct) + len(A_correct))/ len(df_result)"
   ]
  },
  {
   "cell_type": "code",
   "execution_count": 111,
   "metadata": {},
   "outputs": [
    {
     "name": "stdout",
     "output_type": "stream",
     "text": [
      "overall_accuracy: 0.8544600938967136\n",
      "F1_macro_score_N:  0.9101123595505618\n",
      "F1_macro_score_A:  0.5714285714285714\n"
     ]
    }
   ],
   "source": [
    "print('overall_accuracy:', overall_accuracy) \n",
    "print('F1_macro_score_N: ', F1_macro_score_N) \n",
    "print('F1_macro_score_A: ', F1_macro_score_A) "
   ]
  }
 ],
 "metadata": {
  "kernelspec": {
   "display_name": "Python 3",
   "language": "python",
   "name": "python3"
  },
  "language_info": {
   "codemirror_mode": {
    "name": "ipython",
    "version": 3
   },
   "file_extension": ".py",
   "mimetype": "text/x-python",
   "name": "python",
   "nbconvert_exporter": "python",
   "pygments_lexer": "ipython3",
   "version": "3.7.6"
  }
 },
 "nbformat": 4,
 "nbformat_minor": 4
}
