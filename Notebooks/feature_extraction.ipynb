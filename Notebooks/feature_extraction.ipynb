{
 "cells": [
  {
   "cell_type": "code",
   "execution_count": 1,
   "metadata": {},
   "outputs": [],
   "source": [
    "import os\n",
    "\n",
    "if (os.path.basename(os.getcwd()) == 'Notebooks'):\n",
    "    os.chdir('..')"
   ]
  },
  {
   "cell_type": "code",
   "execution_count": 2,
   "metadata": {},
   "outputs": [],
   "source": [
    "from wettbewerb import load_references\n",
    "from preprocessing.preprocessing import *\n",
    "from preprocessing.padding import *\n",
    "from preprocessing.features import *\n",
    "from utils.utils import *\n",
    "import time\n",
    "\n",
    "import numpy as np\n",
    "import pandas as pd\n",
    "import matplotlib.pyplot as plt\n",
    "import csv\n",
    "\n",
    "from scipy.signal import find_peaks\n",
    "import seaborn as sns\n",
    "import math\n",
    "import neurokit2 as nk\n",
    "import scipy.io\n",
    "import sklearn\n",
    "from sklearn import preprocessing\n",
    "from sklearn.ensemble import RandomForestClassifier"
   ]
  },
  {
   "cell_type": "code",
   "execution_count": 3,
   "metadata": {},
   "outputs": [
    {
     "name": "stdout",
     "output_type": "stream",
     "text": [
      "6000\t Dateien wurden geladen.\n"
     ]
    }
   ],
   "source": [
    "ecg_leads, ecg_labels, fs, ecg_names = load_references(folder=\"data/training\") # Importiere EKG-Dateien, zugehörige Diagnose, Sampling-Frequenz (Hz) und Name                                                # Sampling-Frequenz 300 Hz\n",
    "train_data, train_labels, val_data, val_labels, test_data, test_labels = preprocess(ecg_leads, ecg_labels)"
   ]
  },
  {
   "cell_type": "markdown",
   "metadata": {},
   "source": [
    "# Feature extraction\n",
    "1. number of missing p peaks w.r.t r peaks\n",
    "2. distribution score\n",
    "3. sd1\n",
    "4. sd2\n",
    "5. sd1/sd2\n",
    "6. beat rate (per sec for now)\n",
    "7. dominant frequency"
   ]
  },
  {
   "cell_type": "code",
   "execution_count": null,
   "metadata": {},
   "outputs": [
    {
     "name": "stderr",
     "output_type": "stream",
     "text": [
      "C:\\Users\\Abhi\\anaconda3\\lib\\site-packages\\numpy\\core\\fromnumeric.py:3335: RuntimeWarning: Mean of empty slice.\n",
      "  out=out, **kwargs)\n",
      "C:\\Users\\Abhi\\anaconda3\\lib\\site-packages\\numpy\\core\\_methods.py:161: RuntimeWarning: invalid value encountered in double_scalars\n",
      "  ret = ret.dtype.type(ret / rcount)\n",
      "D:\\1_TUD\\a_Summer 22\\1_Dr. DeepAI\\github\\preprocessing\\preprocessing.py:60: RuntimeWarning: Mean of empty slice.\n",
      "  orig_peaks_mean = orig_sinal_peaks.mean()\n"
     ]
    }
   ],
   "source": [
    "X = []\n",
    "y = []\n",
    "for i in range(len(train_data)):\n",
    "    sig = invert2(train_data[i])\n",
    "    sig = nk.ecg_clean(sig, sampling_rate=300, method=\"neurokit\")\n",
    "    #sig = remove_noise_butterworth(sig, 300)\n",
    "    r_peaks, p_peaks = find_peaks_r_p(sig, 300)\n",
    "    \n",
    "    len_r = len(r_peaks)\n",
    "    len_p = len(p_peaks)\n",
    "    score = distribution_score(r_peaks, sig)\n",
    "    sd1, sd2, ratio = poincare_sd(r_peaks)\n",
    "    dom_freq = dominant_freq(sig)\n",
    "    beat_rate = beats_per_sec(sig, len_r)\n",
    "    \n",
    "    #feature array\n",
    "    array = [len_r - len_p, score, sd1, sd2, ratio, beat_rate, dom_freq]\n",
    "    \n",
    "    X.append(array)\n",
    "    y.append(train_labels[i])\n",
    "X, y = np.array(X), np.array(y)    "
   ]
  },
  {
   "cell_type": "code",
   "execution_count": 24,
   "metadata": {},
   "outputs": [],
   "source": [
    "scaler = preprocessing.MinMaxScaler()\n",
    "X = scaler.fit_transform(X)\n",
    "\n",
    "clf = RandomForestClassifier(max_depth = 30, random_state=0)\n",
    "clf = clf.fit(X, y)"
   ]
  }
 ],
 "metadata": {
  "kernelspec": {
   "display_name": "Python 3",
   "language": "python",
   "name": "python3"
  },
  "language_info": {
   "codemirror_mode": {
    "name": "ipython",
    "version": 3
   },
   "file_extension": ".py",
   "mimetype": "text/x-python",
   "name": "python",
   "nbconvert_exporter": "python",
   "pygments_lexer": "ipython3",
   "version": "3.7.6"
  }
 },
 "nbformat": 4,
 "nbformat_minor": 4
}
