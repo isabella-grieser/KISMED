{
 "cells": [
  {
   "cell_type": "code",
   "execution_count": 1,
   "id": "f3e940d5",
   "metadata": {},
   "outputs": [
    {
     "data": {
      "text/plain": [
       "'c:\\\\Users\\\\sebastian\\\\SynologyDrive\\\\Studium\\\\10.Semester\\\\Wettbewerb\\\\project\\\\code\\\\KISMED'"
      ]
     },
     "execution_count": 1,
     "metadata": {},
     "output_type": "execute_result"
    }
   ],
   "source": [
    "import os\n",
    "\n",
    "if (os.path.basename(os.getcwd()) == 'Notebooks'):\n",
    "    os.chdir('..')\n",
    "os.getcwd()"
   ]
  },
  {
   "cell_type": "code",
   "execution_count": 2,
   "id": "97abeaa9",
   "metadata": {},
   "outputs": [],
   "source": [
    "from models.cnnmodel import CNNModel\n",
    "from wettbewerb import load_references\n",
    "from preprocessing.preprocessing import *\n",
    "from preprocessing.padding import *\n",
    "from utils.utils import *\n",
    "import time"
   ]
  },
  {
   "cell_type": "markdown",
   "id": "ab5124a8",
   "metadata": {},
   "source": [
    "# CNN Approach\n",
    "> Notebook will be updated"
   ]
  },
  {
   "cell_type": "markdown",
   "id": "616756d2",
   "metadata": {},
   "source": [
    "## Load the data"
   ]
  },
  {
   "cell_type": "code",
   "execution_count": 3,
   "id": "e17f8070",
   "metadata": {},
   "outputs": [
    {
     "name": "stdout",
     "output_type": "stream",
     "text": [
      "6000\t Dateien wurden geladen.\n"
     ]
    }
   ],
   "source": [
    "ecg_leads, ecg_labels, fs, ecg_names = load_references(folder=\"data/training\") # Importiere EKG-Dateien, zugehörige Diagnose, Sampling-Frequenz (Hz) und Name                                                # Sampling-Frequenz 300 Hz\n",
    "train_data, train_labels, val_data, val_labels, test_data, test_labels = preprocess(ecg_leads, ecg_labels)"
   ]
  },
  {
   "cell_type": "markdown",
   "id": "87501093",
   "metadata": {},
   "source": [
    "## Train the model"
   ]
  },
  {
   "cell_type": "code",
   "execution_count": 4,
   "id": "de57c20c",
   "metadata": {},
   "outputs": [
    {
     "name": "stdout",
     "output_type": "stream",
     "text": [
      "Model: \"model\"\n",
      "_________________________________________________________________\n",
      "Layer (type)                 Output Shape              Param #   \n",
      "=================================================================\n",
      "input_1 (InputLayer)         [(None, 18285, 1)]        0         \n",
      "_________________________________________________________________\n",
      "conv1d (Conv1D)              (None, 18285, 32)         192       \n",
      "_________________________________________________________________\n",
      "max_pooling1d (MaxPooling1D) (None, 9142, 32)          0         \n",
      "_________________________________________________________________\n",
      "conv1d_1 (Conv1D)            (None, 9142, 32)          5152      \n",
      "_________________________________________________________________\n",
      "max_pooling1d_1 (MaxPooling1 (None, 4571, 32)          0         \n",
      "_________________________________________________________________\n",
      "conv1d_2 (Conv1D)            (None, 4571, 64)          10304     \n",
      "_________________________________________________________________\n",
      "max_pooling1d_2 (MaxPooling1 (None, 2285, 64)          0         \n",
      "_________________________________________________________________\n",
      "conv1d_3 (Conv1D)            (None, 2285, 64)          20544     \n",
      "_________________________________________________________________\n",
      "max_pooling1d_3 (MaxPooling1 (None, 1142, 64)          0         \n",
      "_________________________________________________________________\n",
      "conv1d_4 (Conv1D)            (None, 1142, 128)         41088     \n",
      "_________________________________________________________________\n",
      "max_pooling1d_4 (MaxPooling1 (None, 571, 128)          0         \n",
      "_________________________________________________________________\n",
      "conv1d_5 (Conv1D)            (None, 571, 128)          82048     \n",
      "_________________________________________________________________\n",
      "max_pooling1d_5 (MaxPooling1 (None, 285, 128)          0         \n",
      "_________________________________________________________________\n",
      "dropout (Dropout)            (None, 285, 128)          0         \n",
      "_________________________________________________________________\n",
      "conv1d_6 (Conv1D)            (None, 285, 256)          164096    \n",
      "_________________________________________________________________\n",
      "max_pooling1d_6 (MaxPooling1 (None, 142, 256)          0         \n",
      "_________________________________________________________________\n",
      "conv1d_7 (Conv1D)            (None, 142, 256)          327936    \n",
      "_________________________________________________________________\n",
      "max_pooling1d_7 (MaxPooling1 (None, 71, 256)           0         \n",
      "_________________________________________________________________\n",
      "dropout_1 (Dropout)          (None, 71, 256)           0         \n",
      "_________________________________________________________________\n",
      "conv1d_8 (Conv1D)            (None, 71, 512)           655872    \n",
      "_________________________________________________________________\n",
      "max_pooling1d_8 (MaxPooling1 (None, 35, 512)           0         \n",
      "_________________________________________________________________\n",
      "dropout_2 (Dropout)          (None, 35, 512)           0         \n",
      "_________________________________________________________________\n",
      "conv1d_9 (Conv1D)            (None, 35, 512)           1311232   \n",
      "_________________________________________________________________\n",
      "flatten (Flatten)            (None, 17920)             0         \n",
      "_________________________________________________________________\n",
      "dense (Dense)                (None, 64)                1146944   \n",
      "_________________________________________________________________\n",
      "dropout_3 (Dropout)          (None, 64)                0         \n",
      "_________________________________________________________________\n",
      "dense_1 (Dense)              (None, 32)                2080      \n",
      "_________________________________________________________________\n",
      "dense_2 (Dense)              (None, 1)                 33        \n",
      "=================================================================\n",
      "Total params: 3,767,521\n",
      "Trainable params: 3,767,521\n",
      "Non-trainable params: 0\n",
      "_________________________________________________________________\n"
     ]
    }
   ],
   "source": [
    "MAX_SAMPLE_NUM = 18286\n",
    "model = CNNModel(MAX_SAMPLE_NUM-1)\n",
    "#model.train(train_data, train_labels, val_data, val_labels, fs)"
   ]
  },
  {
   "cell_type": "markdown",
   "id": "8d69d5bb",
   "metadata": {},
   "source": [
    "# Test the model"
   ]
  },
  {
   "cell_type": "code",
   "execution_count": 5,
   "id": "4c96a60f",
   "metadata": {},
   "outputs": [
    {
     "name": "stdout",
     "output_type": "stream",
     "text": [
      "time needed for prediction calculation: 41.83370018005371\n"
     ]
    }
   ],
   "source": [
    "start_time = time.time()\n",
    "#metrics = model.test(train_data, train_labels, fs)\n",
    "metrics = model.test(test_data, test_labels, fs)\n",
    "pred_time = time.time() - start_time\n",
    "print(f'time needed for prediction calculation: {pred_time}')"
   ]
  },
  {
   "cell_type": "code",
   "execution_count": 6,
   "id": "dbc1af87",
   "metadata": {},
   "outputs": [
    {
     "data": {
      "text/plain": [
       "{'f1': 0.9832402234636871,\n",
       " 'accuracy': 0.9958275382475661,\n",
       " 'precision': 1.0,\n",
       " 'recall': 0.967032967032967}"
      ]
     },
     "execution_count": 6,
     "metadata": {},
     "output_type": "execute_result"
    }
   ],
   "source": [
    "metrics"
   ]
  }
 ],
 "metadata": {
  "interpreter": {
   "hash": "57b509c7956522cc8cdf2e8069d90179bac8004cf3bc3c6aa5bc71ecefa75684"
  },
  "kernelspec": {
   "display_name": "Python 3.8.13 ('AFDet')",
   "language": "python",
   "name": "python3"
  },
  "language_info": {
   "codemirror_mode": {
    "name": "ipython",
    "version": 3
   },
   "file_extension": ".py",
   "mimetype": "text/x-python",
   "name": "python",
   "nbconvert_exporter": "python",
   "pygments_lexer": "ipython3",
   "version": "3.8.13"
  }
 },
 "nbformat": 4,
 "nbformat_minor": 5
}
