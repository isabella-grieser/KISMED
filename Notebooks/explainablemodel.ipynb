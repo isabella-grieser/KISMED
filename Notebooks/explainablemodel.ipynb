{
 "cells": [
  {
   "cell_type": "code",
   "execution_count": 2,
   "metadata": {},
   "outputs": [],
   "source": [
    "%load_ext autoreload\n",
    "%autoreload 2"
   ]
  },
  {
   "cell_type": "code",
   "execution_count": 7,
   "metadata": {},
   "outputs": [],
   "source": [
    "import os\n",
    "\n",
    "if (os.path.basename(os.getcwd()) == 'Notebooks'):\n",
    "    os.chdir('..')\n",
    "\n",
    "from models.rfclassifier import RfClassifier\n",
    "from wettbewerb import load_references\n",
    "import shap\n",
    "from preprocessing.preprocessing import *\n",
    "from utils.utils import *\n",
    "from config import *"
   ]
  },
  {
   "cell_type": "markdown",
   "metadata": {},
   "source": [
    "## Explainable AI Side Quest\n",
    "\n",
    "This notebook explains how to get an explainable model and explainable predictions.\n",
    "Only the RfClassifier model can return explainable predictions.."
   ]
  },
  {
   "cell_type": "markdown",
   "metadata": {},
   "source": [
    "### Explainable model\n",
    "\n",
    "With .explain_model(), we can get the weights of the Random Forest classifier and check what the most important features in the model are:"
   ]
  },
  {
   "cell_type": "code",
   "execution_count": 8,
   "metadata": {},
   "outputs": [],
   "source": [
    "model = RfClassifier()"
   ]
  },
  {
   "cell_type": "code",
   "execution_count": 9,
   "metadata": {},
   "outputs": [
    {
     "name": "stdout",
     "output_type": "stream",
     "text": [
      "6000\t Dateien wurden geladen.\n",
      "8528\t Dateien wurden geladen.\n",
      "6877\t Dateien wurden geladen.\n",
      "10646\t Dateien wurden geladen.\n"
     ]
    }
   ],
   "source": [
    "ecg_leads, ecg_labels, fs, ecg_names = get_all_data()\n",
    "\n",
    "train_data, train_labels, val_data, val_labels, test_data, test_labels = preprocess(ecg_leads, ecg_labels,\n",
    "                                                                                    typ=ProblemType.BINARY,\n",
    "                                                                                    val_data=False)"
   ]
  },
  {
   "cell_type": "code",
   "execution_count": 14,
   "metadata": {},
   "outputs": [],
   "source": [
    "model.train(train_data, train_labels, val_data, val_labels, 300,  ProblemType.BINARY)"
   ]
  },
  {
   "cell_type": "markdown",
   "metadata": {},
   "source": [
    "### Explainable predictions\n",
    "\n",
    "With .explain_prediction(signal), we can then get an analysis, which features were the most important when deciding, if a signal comes from a normal heart or not."
   ]
  },
  {
   "cell_type": "code",
   "execution_count": 39,
   "metadata": {},
   "outputs": [
    {
     "name": "stdout",
     "output_type": "stream",
     "text": [
      "label: ['N']\n"
     ]
    }
   ],
   "source": [
    "shap_vals = model.explain_prediction(test_data[0])"
   ]
  },
  {
   "cell_type": "code",
   "execution_count": 45,
   "metadata": {},
   "outputs": [
    {
     "ename": "IndexError",
     "evalue": "tuple index out of range",
     "output_type": "error",
     "traceback": [
      "\u001b[1;31m---------------------------------------------------------------------------\u001b[0m",
      "\u001b[1;31mIndexError\u001b[0m                                Traceback (most recent call last)",
      "\u001b[1;32md:\\Programming\\KISMED\\Notebooks\\explainablemodel.ipynb Cell 10'\u001b[0m in \u001b[0;36m<cell line: 2>\u001b[1;34m()\u001b[0m\n\u001b[0;32m      <a href='vscode-notebook-cell:/d%3A/Programming/KISMED/Notebooks/explainablemodel.ipynb#ch0000011?line=0'>1</a>\u001b[0m feats,_ \u001b[39m=\u001b[39m model\u001b[39m.\u001b[39mpreprocess([test_data[\u001b[39m0\u001b[39m]], [\u001b[39m\"\u001b[39m\u001b[39mN\u001b[39m\u001b[39m\"\u001b[39m])\n\u001b[1;32m----> <a href='vscode-notebook-cell:/d%3A/Programming/KISMED/Notebooks/explainablemodel.ipynb#ch0000011?line=1'>2</a>\u001b[0m shap\u001b[39m.\u001b[39;49msummary_plot(shap_vals, feats)\n",
      "File \u001b[1;32mc:\\Users\\Isabella\\anaconda3\\envs\\kismed\\lib\\site-packages\\shap\\plots\\_beeswarm.py:494\u001b[0m, in \u001b[0;36msummary_legacy\u001b[1;34m(shap_values, features, feature_names, max_display, plot_type, color, axis_color, title, alpha, show, sort, color_bar, plot_size, layered_violin_max_num_bins, class_names, class_inds, color_bar_label, cmap, auto_size_plot, use_log_scale)\u001b[0m\n\u001b[0;32m    491\u001b[0m     feature_names \u001b[39m=\u001b[39m features\n\u001b[0;32m    492\u001b[0m     features \u001b[39m=\u001b[39m \u001b[39mNone\u001b[39;00m\n\u001b[1;32m--> 494\u001b[0m num_features \u001b[39m=\u001b[39m (shap_values[\u001b[39m0\u001b[39;49m]\u001b[39m.\u001b[39;49mshape[\u001b[39m1\u001b[39;49m] \u001b[39mif\u001b[39;00m multi_class \u001b[39melse\u001b[39;00m shap_values\u001b[39m.\u001b[39mshape[\u001b[39m1\u001b[39m])\n\u001b[0;32m    496\u001b[0m \u001b[39mif\u001b[39;00m features \u001b[39mis\u001b[39;00m \u001b[39mnot\u001b[39;00m \u001b[39mNone\u001b[39;00m:\n\u001b[0;32m    497\u001b[0m     shape_msg \u001b[39m=\u001b[39m \u001b[39m\"\u001b[39m\u001b[39mThe shape of the shap_values matrix does not match the shape of the \u001b[39m\u001b[39m\"\u001b[39m \\\n\u001b[0;32m    498\u001b[0m                 \u001b[39m\"\u001b[39m\u001b[39mprovided data matrix.\u001b[39m\u001b[39m\"\u001b[39m\n",
      "\u001b[1;31mIndexError\u001b[0m: tuple index out of range"
     ]
    }
   ],
   "source": [
    "feats,_ = model.preprocess([test_data[0]], [\"N\"])\n",
    "\n",
    "shap.summary_plot(shap_vals, feats)\n"
   ]
  }
 ],
 "metadata": {
  "interpreter": {
   "hash": "9362d334954a61bc67be4a8090a074312963da173048daa6a0f4802c5ae625a5"
  },
  "kernelspec": {
   "display_name": "Python 3",
   "language": "python",
   "name": "python3"
  },
  "language_info": {
   "codemirror_mode": {
    "name": "ipython",
    "version": 3
   },
   "file_extension": ".py",
   "mimetype": "text/x-python",
   "name": "python",
   "nbconvert_exporter": "python",
   "pygments_lexer": "ipython3",
   "version": "3.10.4"
  }
 },
 "nbformat": 4,
 "nbformat_minor": 2
}
